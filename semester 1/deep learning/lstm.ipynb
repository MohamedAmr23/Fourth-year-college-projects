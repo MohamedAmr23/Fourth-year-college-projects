{
  "nbformat": 4,
  "nbformat_minor": 0,
  "metadata": {
    "colab": {
      "provenance": []
    },
    "kernelspec": {
      "name": "python3",
      "display_name": "Python 3"
    },
    "language_info": {
      "name": "python"
    }
  },
  "cells": [
    {
      "cell_type": "code",
      "execution_count": 1,
      "metadata": {
        "id": "LTUqQVJhos50"
      },
      "outputs": [],
      "source": [
        "import pandas as pd\n",
        "import numpy as np\n",
        "import seaborn as sns\n",
        "import matplotlib.pyplot as plt\n",
        "import nltk\n",
        "import re\n",
        "from nltk.corpus import stopwords\n",
        "from nltk.tokenize import RegexpTokenizer\n",
        "from tensorflow.keras.preprocessing.text import Tokenizer\n",
        "from tensorflow.keras.preprocessing.sequence import pad_sequences\n",
        "from tensorflow.keras.models import Sequential\n",
        "from tensorflow.keras.layers import Dense, Embedding, LSTM, Conv1D, MaxPool1D\n",
        "from sklearn.model_selection import train_test_split\n",
        "from sklearn.metrics import classification_report, accuracy_score\n",
        "import warnings\n",
        "warnings.filterwarnings('ignore')"
      ]
    },
    {
      "cell_type": "code",
      "source": [
        "import kagglehub\n",
        "\n",
        "# Download latest version\n",
        "path = kagglehub.dataset_download(\"stevenpeutz/misinformation-fake-news-text-dataset-79k\")\n",
        "\n",
        "print(\"Path to dataset files:\", path)"
      ],
      "metadata": {
        "colab": {
          "base_uri": "https://localhost:8080/"
        },
        "id": "80f_ovIEpgX3",
        "outputId": "80a6dad3-00fe-4ec0-c0d1-21aec888b11a"
      },
      "execution_count": 2,
      "outputs": [
        {
          "output_type": "stream",
          "name": "stdout",
          "text": [
            "Warning: Looks like you're using an outdated `kagglehub` version (installed: 0.3.5), please consider upgrading to the latest version (0.3.6).\n",
            "Downloading from https://www.kaggle.com/api/v1/datasets/download/stevenpeutz/misinformation-fake-news-text-dataset-79k?dataset_version_number=2...\n"
          ]
        },
        {
          "output_type": "stream",
          "name": "stderr",
          "text": [
            "100%|██████████| 84.6M/84.6M [00:04<00:00, 18.1MB/s]"
          ]
        },
        {
          "output_type": "stream",
          "name": "stdout",
          "text": [
            "Extracting files...\n"
          ]
        },
        {
          "output_type": "stream",
          "name": "stderr",
          "text": [
            "\n"
          ]
        },
        {
          "output_type": "stream",
          "name": "stdout",
          "text": [
            "Path to dataset files: /root/.cache/kagglehub/datasets/stevenpeutz/misinformation-fake-news-text-dataset-79k/versions/2\n"
          ]
        }
      ]
    },
    {
      "cell_type": "code",
      "source": [
        "df_true=pd.read_csv(path+'/DataSet_Misinfo_TRUE.csv')\n",
        "df_fake=pd.read_csv(path+'/DataSet_Misinfo_FAKE.csv')"
      ],
      "metadata": {
        "id": "FdCLPkR6plYX"
      },
      "execution_count": 3,
      "outputs": []
    },
    {
      "cell_type": "code",
      "source": [
        "df_true['label']=1\n",
        "df_true=df_true.drop('Unnamed: 0',axis=1)\n",
        "df_true.head()"
      ],
      "metadata": {
        "colab": {
          "base_uri": "https://localhost:8080/",
          "height": 206
        },
        "id": "LqoyGubBp_OK",
        "outputId": "def40392-9900-4208-e7d2-69dce961add4"
      },
      "execution_count": 4,
      "outputs": [
        {
          "output_type": "execute_result",
          "data": {
            "text/plain": [
              "                                                text  label\n",
              "0  The head of a conservative Republican faction ...      1\n",
              "1  Transgender people will be allowed for the fir...      1\n",
              "2  The special counsel investigation of links bet...      1\n",
              "3  Trump campaign adviser George Papadopoulos tol...      1\n",
              "4  President Donald Trump called on the U.S. Post...      1"
            ],
            "text/html": [
              "\n",
              "  <div id=\"df-3e0d3674-9c52-4aa9-831c-14bc8f78d476\" class=\"colab-df-container\">\n",
              "    <div>\n",
              "<style scoped>\n",
              "    .dataframe tbody tr th:only-of-type {\n",
              "        vertical-align: middle;\n",
              "    }\n",
              "\n",
              "    .dataframe tbody tr th {\n",
              "        vertical-align: top;\n",
              "    }\n",
              "\n",
              "    .dataframe thead th {\n",
              "        text-align: right;\n",
              "    }\n",
              "</style>\n",
              "<table border=\"1\" class=\"dataframe\">\n",
              "  <thead>\n",
              "    <tr style=\"text-align: right;\">\n",
              "      <th></th>\n",
              "      <th>text</th>\n",
              "      <th>label</th>\n",
              "    </tr>\n",
              "  </thead>\n",
              "  <tbody>\n",
              "    <tr>\n",
              "      <th>0</th>\n",
              "      <td>The head of a conservative Republican faction ...</td>\n",
              "      <td>1</td>\n",
              "    </tr>\n",
              "    <tr>\n",
              "      <th>1</th>\n",
              "      <td>Transgender people will be allowed for the fir...</td>\n",
              "      <td>1</td>\n",
              "    </tr>\n",
              "    <tr>\n",
              "      <th>2</th>\n",
              "      <td>The special counsel investigation of links bet...</td>\n",
              "      <td>1</td>\n",
              "    </tr>\n",
              "    <tr>\n",
              "      <th>3</th>\n",
              "      <td>Trump campaign adviser George Papadopoulos tol...</td>\n",
              "      <td>1</td>\n",
              "    </tr>\n",
              "    <tr>\n",
              "      <th>4</th>\n",
              "      <td>President Donald Trump called on the U.S. Post...</td>\n",
              "      <td>1</td>\n",
              "    </tr>\n",
              "  </tbody>\n",
              "</table>\n",
              "</div>\n",
              "    <div class=\"colab-df-buttons\">\n",
              "\n",
              "  <div class=\"colab-df-container\">\n",
              "    <button class=\"colab-df-convert\" onclick=\"convertToInteractive('df-3e0d3674-9c52-4aa9-831c-14bc8f78d476')\"\n",
              "            title=\"Convert this dataframe to an interactive table.\"\n",
              "            style=\"display:none;\">\n",
              "\n",
              "  <svg xmlns=\"http://www.w3.org/2000/svg\" height=\"24px\" viewBox=\"0 -960 960 960\">\n",
              "    <path d=\"M120-120v-720h720v720H120Zm60-500h600v-160H180v160Zm220 220h160v-160H400v160Zm0 220h160v-160H400v160ZM180-400h160v-160H180v160Zm440 0h160v-160H620v160ZM180-180h160v-160H180v160Zm440 0h160v-160H620v160Z\"/>\n",
              "  </svg>\n",
              "    </button>\n",
              "\n",
              "  <style>\n",
              "    .colab-df-container {\n",
              "      display:flex;\n",
              "      gap: 12px;\n",
              "    }\n",
              "\n",
              "    .colab-df-convert {\n",
              "      background-color: #E8F0FE;\n",
              "      border: none;\n",
              "      border-radius: 50%;\n",
              "      cursor: pointer;\n",
              "      display: none;\n",
              "      fill: #1967D2;\n",
              "      height: 32px;\n",
              "      padding: 0 0 0 0;\n",
              "      width: 32px;\n",
              "    }\n",
              "\n",
              "    .colab-df-convert:hover {\n",
              "      background-color: #E2EBFA;\n",
              "      box-shadow: 0px 1px 2px rgba(60, 64, 67, 0.3), 0px 1px 3px 1px rgba(60, 64, 67, 0.15);\n",
              "      fill: #174EA6;\n",
              "    }\n",
              "\n",
              "    .colab-df-buttons div {\n",
              "      margin-bottom: 4px;\n",
              "    }\n",
              "\n",
              "    [theme=dark] .colab-df-convert {\n",
              "      background-color: #3B4455;\n",
              "      fill: #D2E3FC;\n",
              "    }\n",
              "\n",
              "    [theme=dark] .colab-df-convert:hover {\n",
              "      background-color: #434B5C;\n",
              "      box-shadow: 0px 1px 3px 1px rgba(0, 0, 0, 0.15);\n",
              "      filter: drop-shadow(0px 1px 2px rgba(0, 0, 0, 0.3));\n",
              "      fill: #FFFFFF;\n",
              "    }\n",
              "  </style>\n",
              "\n",
              "    <script>\n",
              "      const buttonEl =\n",
              "        document.querySelector('#df-3e0d3674-9c52-4aa9-831c-14bc8f78d476 button.colab-df-convert');\n",
              "      buttonEl.style.display =\n",
              "        google.colab.kernel.accessAllowed ? 'block' : 'none';\n",
              "\n",
              "      async function convertToInteractive(key) {\n",
              "        const element = document.querySelector('#df-3e0d3674-9c52-4aa9-831c-14bc8f78d476');\n",
              "        const dataTable =\n",
              "          await google.colab.kernel.invokeFunction('convertToInteractive',\n",
              "                                                    [key], {});\n",
              "        if (!dataTable) return;\n",
              "\n",
              "        const docLinkHtml = 'Like what you see? Visit the ' +\n",
              "          '<a target=\"_blank\" href=https://colab.research.google.com/notebooks/data_table.ipynb>data table notebook</a>'\n",
              "          + ' to learn more about interactive tables.';\n",
              "        element.innerHTML = '';\n",
              "        dataTable['output_type'] = 'display_data';\n",
              "        await google.colab.output.renderOutput(dataTable, element);\n",
              "        const docLink = document.createElement('div');\n",
              "        docLink.innerHTML = docLinkHtml;\n",
              "        element.appendChild(docLink);\n",
              "      }\n",
              "    </script>\n",
              "  </div>\n",
              "\n",
              "\n",
              "<div id=\"df-c7acac71-da12-4149-be19-17db2cd27d90\">\n",
              "  <button class=\"colab-df-quickchart\" onclick=\"quickchart('df-c7acac71-da12-4149-be19-17db2cd27d90')\"\n",
              "            title=\"Suggest charts\"\n",
              "            style=\"display:none;\">\n",
              "\n",
              "<svg xmlns=\"http://www.w3.org/2000/svg\" height=\"24px\"viewBox=\"0 0 24 24\"\n",
              "     width=\"24px\">\n",
              "    <g>\n",
              "        <path d=\"M19 3H5c-1.1 0-2 .9-2 2v14c0 1.1.9 2 2 2h14c1.1 0 2-.9 2-2V5c0-1.1-.9-2-2-2zM9 17H7v-7h2v7zm4 0h-2V7h2v10zm4 0h-2v-4h2v4z\"/>\n",
              "    </g>\n",
              "</svg>\n",
              "  </button>\n",
              "\n",
              "<style>\n",
              "  .colab-df-quickchart {\n",
              "      --bg-color: #E8F0FE;\n",
              "      --fill-color: #1967D2;\n",
              "      --hover-bg-color: #E2EBFA;\n",
              "      --hover-fill-color: #174EA6;\n",
              "      --disabled-fill-color: #AAA;\n",
              "      --disabled-bg-color: #DDD;\n",
              "  }\n",
              "\n",
              "  [theme=dark] .colab-df-quickchart {\n",
              "      --bg-color: #3B4455;\n",
              "      --fill-color: #D2E3FC;\n",
              "      --hover-bg-color: #434B5C;\n",
              "      --hover-fill-color: #FFFFFF;\n",
              "      --disabled-bg-color: #3B4455;\n",
              "      --disabled-fill-color: #666;\n",
              "  }\n",
              "\n",
              "  .colab-df-quickchart {\n",
              "    background-color: var(--bg-color);\n",
              "    border: none;\n",
              "    border-radius: 50%;\n",
              "    cursor: pointer;\n",
              "    display: none;\n",
              "    fill: var(--fill-color);\n",
              "    height: 32px;\n",
              "    padding: 0;\n",
              "    width: 32px;\n",
              "  }\n",
              "\n",
              "  .colab-df-quickchart:hover {\n",
              "    background-color: var(--hover-bg-color);\n",
              "    box-shadow: 0 1px 2px rgba(60, 64, 67, 0.3), 0 1px 3px 1px rgba(60, 64, 67, 0.15);\n",
              "    fill: var(--button-hover-fill-color);\n",
              "  }\n",
              "\n",
              "  .colab-df-quickchart-complete:disabled,\n",
              "  .colab-df-quickchart-complete:disabled:hover {\n",
              "    background-color: var(--disabled-bg-color);\n",
              "    fill: var(--disabled-fill-color);\n",
              "    box-shadow: none;\n",
              "  }\n",
              "\n",
              "  .colab-df-spinner {\n",
              "    border: 2px solid var(--fill-color);\n",
              "    border-color: transparent;\n",
              "    border-bottom-color: var(--fill-color);\n",
              "    animation:\n",
              "      spin 1s steps(1) infinite;\n",
              "  }\n",
              "\n",
              "  @keyframes spin {\n",
              "    0% {\n",
              "      border-color: transparent;\n",
              "      border-bottom-color: var(--fill-color);\n",
              "      border-left-color: var(--fill-color);\n",
              "    }\n",
              "    20% {\n",
              "      border-color: transparent;\n",
              "      border-left-color: var(--fill-color);\n",
              "      border-top-color: var(--fill-color);\n",
              "    }\n",
              "    30% {\n",
              "      border-color: transparent;\n",
              "      border-left-color: var(--fill-color);\n",
              "      border-top-color: var(--fill-color);\n",
              "      border-right-color: var(--fill-color);\n",
              "    }\n",
              "    40% {\n",
              "      border-color: transparent;\n",
              "      border-right-color: var(--fill-color);\n",
              "      border-top-color: var(--fill-color);\n",
              "    }\n",
              "    60% {\n",
              "      border-color: transparent;\n",
              "      border-right-color: var(--fill-color);\n",
              "    }\n",
              "    80% {\n",
              "      border-color: transparent;\n",
              "      border-right-color: var(--fill-color);\n",
              "      border-bottom-color: var(--fill-color);\n",
              "    }\n",
              "    90% {\n",
              "      border-color: transparent;\n",
              "      border-bottom-color: var(--fill-color);\n",
              "    }\n",
              "  }\n",
              "</style>\n",
              "\n",
              "  <script>\n",
              "    async function quickchart(key) {\n",
              "      const quickchartButtonEl =\n",
              "        document.querySelector('#' + key + ' button');\n",
              "      quickchartButtonEl.disabled = true;  // To prevent multiple clicks.\n",
              "      quickchartButtonEl.classList.add('colab-df-spinner');\n",
              "      try {\n",
              "        const charts = await google.colab.kernel.invokeFunction(\n",
              "            'suggestCharts', [key], {});\n",
              "      } catch (error) {\n",
              "        console.error('Error during call to suggestCharts:', error);\n",
              "      }\n",
              "      quickchartButtonEl.classList.remove('colab-df-spinner');\n",
              "      quickchartButtonEl.classList.add('colab-df-quickchart-complete');\n",
              "    }\n",
              "    (() => {\n",
              "      let quickchartButtonEl =\n",
              "        document.querySelector('#df-c7acac71-da12-4149-be19-17db2cd27d90 button');\n",
              "      quickchartButtonEl.style.display =\n",
              "        google.colab.kernel.accessAllowed ? 'block' : 'none';\n",
              "    })();\n",
              "  </script>\n",
              "</div>\n",
              "\n",
              "    </div>\n",
              "  </div>\n"
            ],
            "application/vnd.google.colaboratory.intrinsic+json": {
              "type": "dataframe",
              "variable_name": "df_true",
              "summary": "{\n  \"name\": \"df_true\",\n  \"rows\": 34975,\n  \"fields\": [\n    {\n      \"column\": \"text\",\n      \"properties\": {\n        \"dtype\": \"string\",\n        \"num_unique_values\": 34526,\n        \"samples\": [\n          \"People who don't believe that unauthorized immigrants in the US should be given legal status tend to emphasize that it would be unfair to immigrants who are in the US legally \\u2014 because they deserve a reward for settling in the US \\\"the right way.\\\"\\n\\nBut what if the legal immigration process is itself unfair?\\n\\nA new study by researchers at MIT and Brown University suggest that might be what's going on \\u2014 unintentionally. They looked at applications for employment-based green cards among immigrants who were already in the US. What they found was that, in the standard approval process, Latin American immigrants were much less likely than average to get approved \\u2014 and Asian immigrants were more likely. But when the government went through a slower but more complete approval process, the disparities disappeared.\\n\\nFor this study, the researchers (Emilio J. Castilla of MIT, and Ben A. Rissing of Brown) evaluated the phase in an application for an employment-based green card where the US Department of Labor has to approve or deny the immigrant's \\\"labor certification\\\" for a particular job. These applications get filed when a company decides to take an immigrant who's (almost always) already in the country on a temporary visa \\u2014 like a work visa or student visa \\u2014 and sponsor him or her for a green card, which would let him or her stay in the US permanently and eventually apply for citizenship. So this is the phase in the process where temporary immigrants can get approved to become permanent ones.\\n\\nTechnically, this is supposed to be evaluating the immigrant's would-be employer, not the immigrant him- or herself. In order to get the immigrant \\\"labor certified\\\" for a green card \\u2014 or any work visa \\u2014 the would-be employer has to prove that they tried to find a US citizen to fill the job, but failed.\\n\\nOne thing that isn't supposed to be a factor in the application is the immigrant's country of origin. But even when the researchers controlled for as many variables as they could \\u2014 from the temporary visa that an immigrant held in the US when he filed the green-card application, to the skill level of the job \\u2014 they found that approval rates varied widely from one nationality to the next. 90.5 percent of Asian immigrants were approved for labor certification. But only 66.8 percent of Latin American immigrants were.\\n\\nThe regional disparity even showed up in immigrants applying for the same type of job. \\\"Immigrants from Asia seeking employment as restaurant cooks are 41.6 percent more likely to be approved than immigrants from Latin America, all else being equal,\\\" the researchers write. It's a problem for high-skilled workers, too: Asian immigrants weren't any more likely than Canadians (for example) to get approved to work as computer software engineers, but Latin American immigrants were over 25 percent less likely.\\n\\nThe biggest problem with the study: the government agents looking over immigrants' applications could see each immigrant's educational background, but the researchers couldn't. That could be a huge factor explaining the variation: maybe Latin American immigrants are simply less educationally qualified for the positions they're applying for.\\n\\nBut the study indicates that can't be the whole story. For example, the researchers looked at immigrants who were already on H1-B high-skilled visas (99 percent of whom have a bachelor's degree or higher) but were applying to upgrade to green cards. Among that group, Asian immigrants were still 11 percent more likely than Canadians to get approved for green cards \\u2014 and H1B-holding Latin American immigrants were 20 percent less likely.\\n\\nThere's also previous research showing that government officials profile immigrants based on their countries of origin. In one study, in which officials were asked to look over fictional visa applications, the author said that region of origin was being used strongly as a \\\"criterion of a visa applicant's desirability.\\\"\\n\\nMost of the time, the DOL makes decisions based on basic information about the immigrant, the job, and the employer, as well as evidence of the employer's failed attempt to recruit US citizens. 90 percent of those cases get approved, and they're typically approved or denied in under 4 months. But in a few cases \\u2014 thanks to a process that is partly random, and partly not \\u2014 applications are \\\"audited,\\\" and agents take a more in-depth look at an immigrant's background, and the requirements for the position. In those cases, only 57 percent of applications are approved \\u2014 and it takes about 2 years to come to a decision.\\n\\nAccording to the new study, audited applications had one big advantage over non-audited ones: the disparities in approval rates between immigrants from different regions disappeared. That might indicate that whatever is happening to favor Asian immigrants and disfavor Latin American ones in the quicker process is unintentional, since government officials don't appear to think there's good reason to be more suspicious of Latin American applicants.\\n\\nThe study's authors suggest an easy fix: making it impossible for an official to see an applicant's country of origin, just like officials aren't allowed to see applicants' ages or sexes. If this really is a significant problem, however, it's not something that changing the process in the future will be able to fix.\\n\\nIf the government is really making it harder for Latin American immigrants currently in the US legally to get green cards through their employers, they're unfairly forcing Latin American immigrants to make the difficult choice between leaving the country they've been living in for years, and staying in the US after their visas expire. In other words, the government's approval-rate problem might be driving more legal Latin American immigrants to become illegal.\",\n          \"U.S. House Speaker Paul Ryan on Wednesday called on health insurance companies to \\u201cstick it out\\u201d in the Obamacare marketplace despite concerns over its stability, saying  Republicans are continuing their push to replace current law. Speaking in an interview with Axios news outlet, Ryan said he could not address ongoing litigation over the fate of the Obamacare cost-sharing subsidies but that he has encouraged insurers to still participate in 2018.\",\n          \"Back in June, I first saw Mr. Trump announcing his candidacy for president. What he said about unauthorized\\u00a0immigrants seemed ridiculous so I laughed. I showed the video to friends, and I laughed again. His words were poorly chosen.\\n\\nBut something worse happened. People interpreted Trump\\u2019s words in the most awful and offensive ways.\\n\\nIn one of my courses, at the University of Texas at Austin, I asked my students: \\u201cWhat has Donald Trump said that you found most offensive?\\u201d One student raised her hand high: \\u201cHe said that all Mexicans are rapists.\\u201d I asked a coworker the same question. He replied: \\u201cHe said that all Mexican immigrants are rapists.\\u201d\\n\\nI explained that Trump said no such thing. This is what Trump said:\\n\\nYou might well dislike Trump\\u2019s words. I did. But let\\u2019s not make it worse. He did not say that all Mexicans are rapists. Yet that\\u2019s what many commentators did. For example,\\u00a0Politico\\u00a0misquoted Trump by omitting his phrase about \\u201cgood people.\\u201d They said he was \\u201cdemonizing Mexicans as rapists.\\u201d They argued that Mexicans do not really commit more rapes in the U.S. than whites. But that\\u2019s not what Trump claimed.\\n\\nSimilarly, other news sources misrepresented his words in offensive ways:\\n\\nCompare such words with Trump\\u2019s words. Which is worse? Writers excerpted the phrase: \\u201cthey\\u2019re rapists,\\u201d as if it were about all Mexican unauthorized immigrants, or worse, about all Mexican immigrants, or even worst, about all Mexicans. But that\\u2019s not what he said. That\\u2019s not what he meant. It was just a remark about some of the criminals crossing the border.\\n\\nThe trick for misrepresenting Trump\\u2019s words can be used against anyone.\\n\\nFor example, on October 7, at a Democratic debate, Hillary Clinton answered the question: \\u201cWhich enemy are you most proud of?\\u201d She replied: \\u201cIn addition to the NRA, um, the health insurance companies, the drug companies, um, the Iranians.\\u201d\\n\\nIf you do to her what the media did to Trump, then you should believe that Hillary Clinton is proud to be the enemy of 77 million citizens of Iran, plus millions more living outside Iran, including mothers, children, and disabled people. But that\\u2019s not what she meant.\\n\\nOn November 6, at the MSNBC Democratic Candidates Forum, Bernie Sanders said: \\u201cwe have to pass a constitutional amendment that everyone in America who is 18 years old or older is registered to vote.\\u201d He said\\u00a0everyone. Someone might then write: \\u201cHe proposed that everyone who is in the U.S. should vote, everyone who is 18, even illegal immigrants, tourists, and terrorists.\\u201d But that\\u2019s not what he meant.\\n\\nIt is no wonder that many people think the media is grossly dishonest. No wonder Mr. Trump\\u2019s critiques of the media make his followers cheer.\\n\\nTrump was discussing crimes committed by unauthorized immigrants. Is it true that some people who illegally cross the border from Mexico are good? Yes. Is it true that some others commit crimes? Yes. Is that a problem? People disagree. Some conjecture that unauthorized immigrants don\\u2019t commit more crimes than U.S. citizens. But crimes by unauthorized immigrants, even murders, would not have happened if those individuals had not entered the U.S.\\n\\nTime for a disclosure. I was born and raised in Puerto Rico. Spanish is my first language. I voted for Obama. I live in liberal Austin, Texas, where I work as a tenured professor of history. I\\u2019ve never voted for a Republican. My preferred candidate for U.S. president would be Elizabeth Warren. Since she is not running, my preferred candidate is Bernie Sanders.\\n\\nAnyhow, discussions about illegal immigration are ruined by lack of data. I asked my friends, university faculty: \\u201cHow many people do you think are deported per year in the U.S.?\\u201d\\n\\nThere are two kinds of deportations: some are caught near the border and \\u201creturned,\\u201d others are \\u201cremoved\\u201d by a court order. Consider the border patrol agents, personnel, the bureaucracy, the lawyers, the resources needed to find people and deport them. How many were deported in 2014?\\n\\nOne of my friends guessed 3,000. Another guessed 10,000. Another guessed 50,000\\u2014which would really be a lot of people, imagine.\\n\\nActually, in fiscal year 2014, the U.S. deported a total of 893,238 foreigners! That\\u2019s a huge number. It includes 577,295 deported by the Department of Homeland Security, plus 315,943 deported by Immigration and Customs Enforcement. Among the latter, 2,802 were classified as suspected or confirmed gang members.\\n\\nSince 1990, the average is 1.2 million deportations per year. The highest in U.S. history was 1.86 million foreigners deported in the year 2000. That\\u2019s astonishing.\\n\\nHow many were criminals?\\n\\nWe don\\u2019t know because most criminals are not caught. Plus, many who are accused are not convicted because of a lack of evidence. Still, in 2014, the U.S. deported 177,960 convicted criminals. Surprisingly, 91,037 were already convicted criminals\\u00a0before\\u00a0they even entered the\\u00a0U.S.\\n\\nAt the University of Texas at Austin, the football stadium can seat 100,119 people. I have seen it full. I\\u2019ve see more than 100,000 people at once\\u2014it\\u2019s an incredible sight. It\\u2019s a staggering swarm of people. I have seen them yelling all at once.\\n\\nIt is utterly astonishing to me that this stadium would fail to seat all the convicted criminals deported in a single year. Back to Mr. Trump. Did he unfairly single out Mexicans when complaining about crimes by unauthorized immigrants? By far, most Mexicans are good people. However, since Mexico shares a large frontier with the U.S., and many Mexicans face economic hardships, most of the reported illegal immigration into the U.S. is from Mexico. Accordingly, in recent years roughly 76% of criminal unauthorized immigrants are from Mexico. What kinds of crime? It is strangely difficult to find national statistics on homicides, sexual assaults, and thefts, by unauthorized immigrants. But there is relevant data for some states. The Texas Department of Public Safety identified 207,076 foreign aliens who were booked into Texas county jails from October 2008 through August 1, 2014. Their term \\u201cforeign aliens\\u201d includes both foreigners who are in Texas legally and foreigners who entered illegally. They were accused of 357,884 crimes in those 70 months, including these charges: 4,413 terroristic threats, 60,973 robberies and larcenies, 6,636 vehicle thefts, 78,682 assaults, 12,869 sexual assaults and offenses, 1,113 kidnapping, and 3,089 homicides. That includes, an average of 1,383 charges of sexual assaults per year, in Texas alone. The real number of rapes and sexual assaults is larger since many victims do not report these crimes. According to the National Crime and Victimization Survey, 2008-2012, approximately 68% of sexual assault crimes are not reported. So I estimate that foreigners commit roughly 4,000 sexual assaults in Texas each year. In Texas, roughly 529 foreigners per year were accused of committing murder. Plus, the FBI reports that 36% of homicides nationwide remain unsolved. These crime rates are staggering and offensive. None of the women and men who were killed in by unauthorized immigrants in Texas would have died if the murderers had not entered the U.S. illegally. These are not just words. Pause for a moment to think about a Texas woman whose husband was murdered one night. Think about parents who never saw their son again because he was murdered. Think of the thousands of families standing at the cemeteries. I\\u2019ve only summarized murders and sexual assaults. Consider drugs and drug violence. According to the Drug Enforcement Administration, most illegal drugs come from Mexico, including most cocaine and heroine. Most methamphetamines also are smuggled from Mexico. The 2015 National Drug Threat Survey finds that methamphetamines are the drugs that most contribute to property crimes and violent crimes. You get the point. There are tremendous problems of drugs, murders, and rapes caused at the porous border. Without knowing the data, it was easy to be offended by Mr. Trump\\u2019s crude words when he announced his candidacy. However, seeing the data above, I understand his concerns. Here\\u2019s what Trump said right after his words quoted above: \\u201cAnd it only makes common sense, it only makes common sense: they\\u2019re sending us not the right people, and it\\u2019s coming from more than Mexico, it\\u2019s coming from all over South and Latin America, and it\\u2019s coming probably, probably from the Middle East. But we don\\u2019t know because we have no protection, and we have no competence. We don\\u2019t know what\\u2019s happening. And it\\u2019s gotta stop. And it\\u2019s gotta stop fast.\\u201d We can disagree about some points. Is the Mexican government really sending criminals to the U.S.? On July 5, Trump said: \\u201cThe Mexican Government is forcing their most unwanted people into the United States. They are, in many cases, criminals, drug dealers, rapists, etc.\\u201d This claim might be false if Mexico does not intentionally send criminals to the US. At its best, this statement seems plausible if Trump meant that conditions generated in Mexico by its government lead some criminals to the U.S. In any case, Trump proposes to secure the southern border by implementing various security measures. His most recurring proposal is to build a wall, along areas of the border lacking natural barriers. His proposal has been widely criticized. Some people construed it as a sign of racism, xenophobia, etc. However, I can understand why many of Trump\\u2019s followers actually cheer: \\u201cBuild the Wall! Build the Wall!\\u201d First, there are the worries about murders, drugs, crimes, and terrorism. Presently, countless many unauthorized immigrants walk into the country, unchecked. In fiscal year 2014, the Border Patrol made 468,407 apprehensions along the southwest border. By comparison, the Border Patrol only made 18,244 apprehensions in all other regions. But one point sticks in my mind. Namely this: there already exist a long series of fences and walls between Mexico and the U.S. These fences and walls span parts of California, Arizona, New Mexico, and Texas. As of early 2012, the Department of Homeland Security had completed 652 miles of fences and walls. Trump did not build all that. It was mandated by Congress. Walls are common along\\u00a0many countries\\u2019 borders, such as Spain, China, France, Greece, Pakistan,\\u00a0Israel, etc. The border between the U.S. and Mexico spans roughly 1,950 miles. Trump wants a wall that will be 1,000 miles long, including areas already covered. I\\u2019m not trying to convince you about a wall. My point is just that it\\u2019s neither impossible nor ridiculous. A main reason why many border areas have fences instead of walls is just that walls are more expensive. Trump says that everyone who didn\\u2019t enter the U.S. legally should return to their countries. \\u201cThey have to go.\\u201d We might well disagree. But his view is closer to Immigration law. If you prefer amnesty then lawmakers have to create a law to that effect. Trump insists: \\u201cI want people to come in, but they have to come in legally.\\u201d Regardless, countless many people think that Trump is racist against Mexicans. I suggest that anyone who thinks that should count how many times Trump has praised Mexicans. Most unauthorized immigrants are good people. But still, the media wrongly blamed Mr. Trump for their own misrepresentations.\"\n        ],\n        \"semantic_type\": \"\",\n        \"description\": \"\"\n      }\n    },\n    {\n      \"column\": \"label\",\n      \"properties\": {\n        \"dtype\": \"number\",\n        \"std\": 0,\n        \"min\": 1,\n        \"max\": 1,\n        \"num_unique_values\": 1,\n        \"samples\": [\n          1\n        ],\n        \"semantic_type\": \"\",\n        \"description\": \"\"\n      }\n    }\n  ]\n}"
            }
          },
          "metadata": {},
          "execution_count": 4
        }
      ]
    },
    {
      "cell_type": "code",
      "source": [
        "df_fake['label']=0\n",
        "df_fake=df_fake.drop('Unnamed: 0',axis=1)\n",
        "df_fake.head()"
      ],
      "metadata": {
        "colab": {
          "base_uri": "https://localhost:8080/",
          "height": 206
        },
        "id": "ptetggXWqG8A",
        "outputId": "850fcda8-54e6-4264-8e79-2d548b187386"
      },
      "execution_count": 5,
      "outputs": [
        {
          "output_type": "execute_result",
          "data": {
            "text/plain": [
              "                                                text  label\n",
              "0  Donald Trump just couldn t wish all Americans ...      0\n",
              "1  House Intelligence Committee Chairman Devin Nu...      0\n",
              "2  On Friday, it was revealed that former Milwauk...      0\n",
              "3  On Christmas day, Donald Trump announced that ...      0\n",
              "4  Pope Francis used his annual Christmas Day mes...      0"
            ],
            "text/html": [
              "\n",
              "  <div id=\"df-59fa6be1-1d61-415c-80d9-1028bcf09895\" class=\"colab-df-container\">\n",
              "    <div>\n",
              "<style scoped>\n",
              "    .dataframe tbody tr th:only-of-type {\n",
              "        vertical-align: middle;\n",
              "    }\n",
              "\n",
              "    .dataframe tbody tr th {\n",
              "        vertical-align: top;\n",
              "    }\n",
              "\n",
              "    .dataframe thead th {\n",
              "        text-align: right;\n",
              "    }\n",
              "</style>\n",
              "<table border=\"1\" class=\"dataframe\">\n",
              "  <thead>\n",
              "    <tr style=\"text-align: right;\">\n",
              "      <th></th>\n",
              "      <th>text</th>\n",
              "      <th>label</th>\n",
              "    </tr>\n",
              "  </thead>\n",
              "  <tbody>\n",
              "    <tr>\n",
              "      <th>0</th>\n",
              "      <td>Donald Trump just couldn t wish all Americans ...</td>\n",
              "      <td>0</td>\n",
              "    </tr>\n",
              "    <tr>\n",
              "      <th>1</th>\n",
              "      <td>House Intelligence Committee Chairman Devin Nu...</td>\n",
              "      <td>0</td>\n",
              "    </tr>\n",
              "    <tr>\n",
              "      <th>2</th>\n",
              "      <td>On Friday, it was revealed that former Milwauk...</td>\n",
              "      <td>0</td>\n",
              "    </tr>\n",
              "    <tr>\n",
              "      <th>3</th>\n",
              "      <td>On Christmas day, Donald Trump announced that ...</td>\n",
              "      <td>0</td>\n",
              "    </tr>\n",
              "    <tr>\n",
              "      <th>4</th>\n",
              "      <td>Pope Francis used his annual Christmas Day mes...</td>\n",
              "      <td>0</td>\n",
              "    </tr>\n",
              "  </tbody>\n",
              "</table>\n",
              "</div>\n",
              "    <div class=\"colab-df-buttons\">\n",
              "\n",
              "  <div class=\"colab-df-container\">\n",
              "    <button class=\"colab-df-convert\" onclick=\"convertToInteractive('df-59fa6be1-1d61-415c-80d9-1028bcf09895')\"\n",
              "            title=\"Convert this dataframe to an interactive table.\"\n",
              "            style=\"display:none;\">\n",
              "\n",
              "  <svg xmlns=\"http://www.w3.org/2000/svg\" height=\"24px\" viewBox=\"0 -960 960 960\">\n",
              "    <path d=\"M120-120v-720h720v720H120Zm60-500h600v-160H180v160Zm220 220h160v-160H400v160Zm0 220h160v-160H400v160ZM180-400h160v-160H180v160Zm440 0h160v-160H620v160ZM180-180h160v-160H180v160Zm440 0h160v-160H620v160Z\"/>\n",
              "  </svg>\n",
              "    </button>\n",
              "\n",
              "  <style>\n",
              "    .colab-df-container {\n",
              "      display:flex;\n",
              "      gap: 12px;\n",
              "    }\n",
              "\n",
              "    .colab-df-convert {\n",
              "      background-color: #E8F0FE;\n",
              "      border: none;\n",
              "      border-radius: 50%;\n",
              "      cursor: pointer;\n",
              "      display: none;\n",
              "      fill: #1967D2;\n",
              "      height: 32px;\n",
              "      padding: 0 0 0 0;\n",
              "      width: 32px;\n",
              "    }\n",
              "\n",
              "    .colab-df-convert:hover {\n",
              "      background-color: #E2EBFA;\n",
              "      box-shadow: 0px 1px 2px rgba(60, 64, 67, 0.3), 0px 1px 3px 1px rgba(60, 64, 67, 0.15);\n",
              "      fill: #174EA6;\n",
              "    }\n",
              "\n",
              "    .colab-df-buttons div {\n",
              "      margin-bottom: 4px;\n",
              "    }\n",
              "\n",
              "    [theme=dark] .colab-df-convert {\n",
              "      background-color: #3B4455;\n",
              "      fill: #D2E3FC;\n",
              "    }\n",
              "\n",
              "    [theme=dark] .colab-df-convert:hover {\n",
              "      background-color: #434B5C;\n",
              "      box-shadow: 0px 1px 3px 1px rgba(0, 0, 0, 0.15);\n",
              "      filter: drop-shadow(0px 1px 2px rgba(0, 0, 0, 0.3));\n",
              "      fill: #FFFFFF;\n",
              "    }\n",
              "  </style>\n",
              "\n",
              "    <script>\n",
              "      const buttonEl =\n",
              "        document.querySelector('#df-59fa6be1-1d61-415c-80d9-1028bcf09895 button.colab-df-convert');\n",
              "      buttonEl.style.display =\n",
              "        google.colab.kernel.accessAllowed ? 'block' : 'none';\n",
              "\n",
              "      async function convertToInteractive(key) {\n",
              "        const element = document.querySelector('#df-59fa6be1-1d61-415c-80d9-1028bcf09895');\n",
              "        const dataTable =\n",
              "          await google.colab.kernel.invokeFunction('convertToInteractive',\n",
              "                                                    [key], {});\n",
              "        if (!dataTable) return;\n",
              "\n",
              "        const docLinkHtml = 'Like what you see? Visit the ' +\n",
              "          '<a target=\"_blank\" href=https://colab.research.google.com/notebooks/data_table.ipynb>data table notebook</a>'\n",
              "          + ' to learn more about interactive tables.';\n",
              "        element.innerHTML = '';\n",
              "        dataTable['output_type'] = 'display_data';\n",
              "        await google.colab.output.renderOutput(dataTable, element);\n",
              "        const docLink = document.createElement('div');\n",
              "        docLink.innerHTML = docLinkHtml;\n",
              "        element.appendChild(docLink);\n",
              "      }\n",
              "    </script>\n",
              "  </div>\n",
              "\n",
              "\n",
              "<div id=\"df-8c1f4dce-9833-463a-8e82-aa9cadcde79e\">\n",
              "  <button class=\"colab-df-quickchart\" onclick=\"quickchart('df-8c1f4dce-9833-463a-8e82-aa9cadcde79e')\"\n",
              "            title=\"Suggest charts\"\n",
              "            style=\"display:none;\">\n",
              "\n",
              "<svg xmlns=\"http://www.w3.org/2000/svg\" height=\"24px\"viewBox=\"0 0 24 24\"\n",
              "     width=\"24px\">\n",
              "    <g>\n",
              "        <path d=\"M19 3H5c-1.1 0-2 .9-2 2v14c0 1.1.9 2 2 2h14c1.1 0 2-.9 2-2V5c0-1.1-.9-2-2-2zM9 17H7v-7h2v7zm4 0h-2V7h2v10zm4 0h-2v-4h2v4z\"/>\n",
              "    </g>\n",
              "</svg>\n",
              "  </button>\n",
              "\n",
              "<style>\n",
              "  .colab-df-quickchart {\n",
              "      --bg-color: #E8F0FE;\n",
              "      --fill-color: #1967D2;\n",
              "      --hover-bg-color: #E2EBFA;\n",
              "      --hover-fill-color: #174EA6;\n",
              "      --disabled-fill-color: #AAA;\n",
              "      --disabled-bg-color: #DDD;\n",
              "  }\n",
              "\n",
              "  [theme=dark] .colab-df-quickchart {\n",
              "      --bg-color: #3B4455;\n",
              "      --fill-color: #D2E3FC;\n",
              "      --hover-bg-color: #434B5C;\n",
              "      --hover-fill-color: #FFFFFF;\n",
              "      --disabled-bg-color: #3B4455;\n",
              "      --disabled-fill-color: #666;\n",
              "  }\n",
              "\n",
              "  .colab-df-quickchart {\n",
              "    background-color: var(--bg-color);\n",
              "    border: none;\n",
              "    border-radius: 50%;\n",
              "    cursor: pointer;\n",
              "    display: none;\n",
              "    fill: var(--fill-color);\n",
              "    height: 32px;\n",
              "    padding: 0;\n",
              "    width: 32px;\n",
              "  }\n",
              "\n",
              "  .colab-df-quickchart:hover {\n",
              "    background-color: var(--hover-bg-color);\n",
              "    box-shadow: 0 1px 2px rgba(60, 64, 67, 0.3), 0 1px 3px 1px rgba(60, 64, 67, 0.15);\n",
              "    fill: var(--button-hover-fill-color);\n",
              "  }\n",
              "\n",
              "  .colab-df-quickchart-complete:disabled,\n",
              "  .colab-df-quickchart-complete:disabled:hover {\n",
              "    background-color: var(--disabled-bg-color);\n",
              "    fill: var(--disabled-fill-color);\n",
              "    box-shadow: none;\n",
              "  }\n",
              "\n",
              "  .colab-df-spinner {\n",
              "    border: 2px solid var(--fill-color);\n",
              "    border-color: transparent;\n",
              "    border-bottom-color: var(--fill-color);\n",
              "    animation:\n",
              "      spin 1s steps(1) infinite;\n",
              "  }\n",
              "\n",
              "  @keyframes spin {\n",
              "    0% {\n",
              "      border-color: transparent;\n",
              "      border-bottom-color: var(--fill-color);\n",
              "      border-left-color: var(--fill-color);\n",
              "    }\n",
              "    20% {\n",
              "      border-color: transparent;\n",
              "      border-left-color: var(--fill-color);\n",
              "      border-top-color: var(--fill-color);\n",
              "    }\n",
              "    30% {\n",
              "      border-color: transparent;\n",
              "      border-left-color: var(--fill-color);\n",
              "      border-top-color: var(--fill-color);\n",
              "      border-right-color: var(--fill-color);\n",
              "    }\n",
              "    40% {\n",
              "      border-color: transparent;\n",
              "      border-right-color: var(--fill-color);\n",
              "      border-top-color: var(--fill-color);\n",
              "    }\n",
              "    60% {\n",
              "      border-color: transparent;\n",
              "      border-right-color: var(--fill-color);\n",
              "    }\n",
              "    80% {\n",
              "      border-color: transparent;\n",
              "      border-right-color: var(--fill-color);\n",
              "      border-bottom-color: var(--fill-color);\n",
              "    }\n",
              "    90% {\n",
              "      border-color: transparent;\n",
              "      border-bottom-color: var(--fill-color);\n",
              "    }\n",
              "  }\n",
              "</style>\n",
              "\n",
              "  <script>\n",
              "    async function quickchart(key) {\n",
              "      const quickchartButtonEl =\n",
              "        document.querySelector('#' + key + ' button');\n",
              "      quickchartButtonEl.disabled = true;  // To prevent multiple clicks.\n",
              "      quickchartButtonEl.classList.add('colab-df-spinner');\n",
              "      try {\n",
              "        const charts = await google.colab.kernel.invokeFunction(\n",
              "            'suggestCharts', [key], {});\n",
              "      } catch (error) {\n",
              "        console.error('Error during call to suggestCharts:', error);\n",
              "      }\n",
              "      quickchartButtonEl.classList.remove('colab-df-spinner');\n",
              "      quickchartButtonEl.classList.add('colab-df-quickchart-complete');\n",
              "    }\n",
              "    (() => {\n",
              "      let quickchartButtonEl =\n",
              "        document.querySelector('#df-8c1f4dce-9833-463a-8e82-aa9cadcde79e button');\n",
              "      quickchartButtonEl.style.display =\n",
              "        google.colab.kernel.accessAllowed ? 'block' : 'none';\n",
              "    })();\n",
              "  </script>\n",
              "</div>\n",
              "\n",
              "    </div>\n",
              "  </div>\n"
            ],
            "application/vnd.google.colaboratory.intrinsic+json": {
              "type": "dataframe",
              "variable_name": "df_fake",
              "summary": "{\n  \"name\": \"df_fake\",\n  \"rows\": 43642,\n  \"fields\": [\n    {\n      \"column\": \"text\",\n      \"properties\": {\n        \"dtype\": \"string\",\n        \"num_unique_values\": 34078,\n        \"samples\": [\n          \"At this point, hearing that there has been violent attacks at rallies held by GOP presidential frontrunner Donald Trump is hardly surprising. His supporters are notoriously fanatical, and woe betide anyone who gets on their bad side   especially when they are all riled up and in the midst of listening to another blistering speech by the leader they look up to so much. So, to that end, here we are again, reading another news cycle of things gone awry at yet another Trump rally, this time in Tucson, Arizona.It appears that, as is par for the course at Trump events these days, there were bunches of protesters. Cell phone video has been making the rounds on social media that shows a man, apparently a protester, being brutally attacked by Trump s brute-like supporters. First, it appears that the man is punched, and then, when he is actually on the ground, he is stomped and kicked, until the authorities show up and break up the altercation.All the while, Trump continues to speak, making his already volatile crowd even more so. Here is the video, as tweeted out by NBC reporter Frank Thorp:VIOLENCE at another Donald Trump rally, this time in Tucson, AZ. Man hits and kicks protester: pic.twitter.com/7FWuSeE0Jt  Frank Thorp V (@frankthorpNBC) March 19, 2016And here is another video that seemingly shows Trump s own campaign manager roughing up a protester:Here is Donald Trump's campaign manager in the Tucson crowd grabbing the collar of a protester. pic.twitter.com/JZ9RntWlHY  Jacqueline Alemany (@JaxAlemany) March 19, 2016It should be damn frightening to ANYONE that the presidential frontrunner of a major American political party sincerely not only believes that this behavior is okay, but actively encourages it. This, ladies and gentlemen, is Donald Trump s America. Be afraid. Be very afraid.Featured image via video screen capture via Twitter\",\n          \"The US secret services have latched onto the fairy tales of Russian hackers and trolls in part to divert attention from the eavesdropping on [former President of\\u00a0 Brazil Dilma] Rousseff and others.\",\n          \"George Takei has been on a social media role since the start of the Trump era, providing astute commentary with a brilliant wit that has made him beloved to millions. His latest Twitter poem   something he does fairly often   might be one of my favorite posts of his yet.Here it is:The crisis has grown very direTrump threatens with fury and fireSo before war's begunAgainst Kim Jong-unWe'd better make Donnie retire  George Takei (@GeorgeTakei) August 9, 2017 The crisis has grown very dire Trump threatens with fury and fire So war s begun Against Kim Jong-un We d better make Donnie retire I d say we re all thinking something pretty similar! Or, at least, according to the latest polling, an overwhelming majority of us are (sorry Trump fans, but those are the facts).Here are a few of his other latest Twitter poems:You tweet us ad nauseumMueller's not tricked cause of 'emSo tweet your memoirsDuring years behind barsYou no doubt'll serve lots of 'em  George Takei (@GeorgeTakei) August 8, 2017Happy Bday oh dearest ObamaThanks for 8 yrs of no dramaFor your wisdom and strengthFor sparing no lengthAnd no daily national trauma  George Takei (@GeorgeTakei) August 5, 2017Things just went south in a hurryNow that they've sat a grand jurySubpoenas galoreI've popcorn. Want more?As karma unleashes its fury.  George Takei (@GeorgeTakei) August 4, 2017Putin tried this n that hackeeInstalling a personal lackeyIt's since come to passWe sanctioned his assWhile Trump is increasingly wacky  George Takei (@GeorgeTakei) August 2, 2017Keep it up, George! You can bet it pisses Trump off every time he sees one, considering how thin his skin is.Read more:Featured image via Stephen Lovekin/Getty Images for GLAAD\"\n        ],\n        \"semantic_type\": \"\",\n        \"description\": \"\"\n      }\n    },\n    {\n      \"column\": \"label\",\n      \"properties\": {\n        \"dtype\": \"number\",\n        \"std\": 0,\n        \"min\": 0,\n        \"max\": 0,\n        \"num_unique_values\": 1,\n        \"samples\": [\n          0\n        ],\n        \"semantic_type\": \"\",\n        \"description\": \"\"\n      }\n    }\n  ]\n}"
            }
          },
          "metadata": {},
          "execution_count": 5
        }
      ]
    },
    {
      "cell_type": "code",
      "source": [
        "df=pd.concat([df_true,df_fake],ignore_index=True)\n",
        "df.head()"
      ],
      "metadata": {
        "colab": {
          "base_uri": "https://localhost:8080/",
          "height": 206
        },
        "id": "rBPrTZzWqIYG",
        "outputId": "1e2f9320-313d-4635-97f3-8e817dfb886c"
      },
      "execution_count": 6,
      "outputs": [
        {
          "output_type": "execute_result",
          "data": {
            "text/plain": [
              "                                                text  label\n",
              "0  The head of a conservative Republican faction ...      1\n",
              "1  Transgender people will be allowed for the fir...      1\n",
              "2  The special counsel investigation of links bet...      1\n",
              "3  Trump campaign adviser George Papadopoulos tol...      1\n",
              "4  President Donald Trump called on the U.S. Post...      1"
            ],
            "text/html": [
              "\n",
              "  <div id=\"df-ba9e4288-83a2-43da-a8f5-fa53940f4f78\" class=\"colab-df-container\">\n",
              "    <div>\n",
              "<style scoped>\n",
              "    .dataframe tbody tr th:only-of-type {\n",
              "        vertical-align: middle;\n",
              "    }\n",
              "\n",
              "    .dataframe tbody tr th {\n",
              "        vertical-align: top;\n",
              "    }\n",
              "\n",
              "    .dataframe thead th {\n",
              "        text-align: right;\n",
              "    }\n",
              "</style>\n",
              "<table border=\"1\" class=\"dataframe\">\n",
              "  <thead>\n",
              "    <tr style=\"text-align: right;\">\n",
              "      <th></th>\n",
              "      <th>text</th>\n",
              "      <th>label</th>\n",
              "    </tr>\n",
              "  </thead>\n",
              "  <tbody>\n",
              "    <tr>\n",
              "      <th>0</th>\n",
              "      <td>The head of a conservative Republican faction ...</td>\n",
              "      <td>1</td>\n",
              "    </tr>\n",
              "    <tr>\n",
              "      <th>1</th>\n",
              "      <td>Transgender people will be allowed for the fir...</td>\n",
              "      <td>1</td>\n",
              "    </tr>\n",
              "    <tr>\n",
              "      <th>2</th>\n",
              "      <td>The special counsel investigation of links bet...</td>\n",
              "      <td>1</td>\n",
              "    </tr>\n",
              "    <tr>\n",
              "      <th>3</th>\n",
              "      <td>Trump campaign adviser George Papadopoulos tol...</td>\n",
              "      <td>1</td>\n",
              "    </tr>\n",
              "    <tr>\n",
              "      <th>4</th>\n",
              "      <td>President Donald Trump called on the U.S. Post...</td>\n",
              "      <td>1</td>\n",
              "    </tr>\n",
              "  </tbody>\n",
              "</table>\n",
              "</div>\n",
              "    <div class=\"colab-df-buttons\">\n",
              "\n",
              "  <div class=\"colab-df-container\">\n",
              "    <button class=\"colab-df-convert\" onclick=\"convertToInteractive('df-ba9e4288-83a2-43da-a8f5-fa53940f4f78')\"\n",
              "            title=\"Convert this dataframe to an interactive table.\"\n",
              "            style=\"display:none;\">\n",
              "\n",
              "  <svg xmlns=\"http://www.w3.org/2000/svg\" height=\"24px\" viewBox=\"0 -960 960 960\">\n",
              "    <path d=\"M120-120v-720h720v720H120Zm60-500h600v-160H180v160Zm220 220h160v-160H400v160Zm0 220h160v-160H400v160ZM180-400h160v-160H180v160Zm440 0h160v-160H620v160ZM180-180h160v-160H180v160Zm440 0h160v-160H620v160Z\"/>\n",
              "  </svg>\n",
              "    </button>\n",
              "\n",
              "  <style>\n",
              "    .colab-df-container {\n",
              "      display:flex;\n",
              "      gap: 12px;\n",
              "    }\n",
              "\n",
              "    .colab-df-convert {\n",
              "      background-color: #E8F0FE;\n",
              "      border: none;\n",
              "      border-radius: 50%;\n",
              "      cursor: pointer;\n",
              "      display: none;\n",
              "      fill: #1967D2;\n",
              "      height: 32px;\n",
              "      padding: 0 0 0 0;\n",
              "      width: 32px;\n",
              "    }\n",
              "\n",
              "    .colab-df-convert:hover {\n",
              "      background-color: #E2EBFA;\n",
              "      box-shadow: 0px 1px 2px rgba(60, 64, 67, 0.3), 0px 1px 3px 1px rgba(60, 64, 67, 0.15);\n",
              "      fill: #174EA6;\n",
              "    }\n",
              "\n",
              "    .colab-df-buttons div {\n",
              "      margin-bottom: 4px;\n",
              "    }\n",
              "\n",
              "    [theme=dark] .colab-df-convert {\n",
              "      background-color: #3B4455;\n",
              "      fill: #D2E3FC;\n",
              "    }\n",
              "\n",
              "    [theme=dark] .colab-df-convert:hover {\n",
              "      background-color: #434B5C;\n",
              "      box-shadow: 0px 1px 3px 1px rgba(0, 0, 0, 0.15);\n",
              "      filter: drop-shadow(0px 1px 2px rgba(0, 0, 0, 0.3));\n",
              "      fill: #FFFFFF;\n",
              "    }\n",
              "  </style>\n",
              "\n",
              "    <script>\n",
              "      const buttonEl =\n",
              "        document.querySelector('#df-ba9e4288-83a2-43da-a8f5-fa53940f4f78 button.colab-df-convert');\n",
              "      buttonEl.style.display =\n",
              "        google.colab.kernel.accessAllowed ? 'block' : 'none';\n",
              "\n",
              "      async function convertToInteractive(key) {\n",
              "        const element = document.querySelector('#df-ba9e4288-83a2-43da-a8f5-fa53940f4f78');\n",
              "        const dataTable =\n",
              "          await google.colab.kernel.invokeFunction('convertToInteractive',\n",
              "                                                    [key], {});\n",
              "        if (!dataTable) return;\n",
              "\n",
              "        const docLinkHtml = 'Like what you see? Visit the ' +\n",
              "          '<a target=\"_blank\" href=https://colab.research.google.com/notebooks/data_table.ipynb>data table notebook</a>'\n",
              "          + ' to learn more about interactive tables.';\n",
              "        element.innerHTML = '';\n",
              "        dataTable['output_type'] = 'display_data';\n",
              "        await google.colab.output.renderOutput(dataTable, element);\n",
              "        const docLink = document.createElement('div');\n",
              "        docLink.innerHTML = docLinkHtml;\n",
              "        element.appendChild(docLink);\n",
              "      }\n",
              "    </script>\n",
              "  </div>\n",
              "\n",
              "\n",
              "<div id=\"df-42e16abd-5f91-4540-bbee-b21b1e776206\">\n",
              "  <button class=\"colab-df-quickchart\" onclick=\"quickchart('df-42e16abd-5f91-4540-bbee-b21b1e776206')\"\n",
              "            title=\"Suggest charts\"\n",
              "            style=\"display:none;\">\n",
              "\n",
              "<svg xmlns=\"http://www.w3.org/2000/svg\" height=\"24px\"viewBox=\"0 0 24 24\"\n",
              "     width=\"24px\">\n",
              "    <g>\n",
              "        <path d=\"M19 3H5c-1.1 0-2 .9-2 2v14c0 1.1.9 2 2 2h14c1.1 0 2-.9 2-2V5c0-1.1-.9-2-2-2zM9 17H7v-7h2v7zm4 0h-2V7h2v10zm4 0h-2v-4h2v4z\"/>\n",
              "    </g>\n",
              "</svg>\n",
              "  </button>\n",
              "\n",
              "<style>\n",
              "  .colab-df-quickchart {\n",
              "      --bg-color: #E8F0FE;\n",
              "      --fill-color: #1967D2;\n",
              "      --hover-bg-color: #E2EBFA;\n",
              "      --hover-fill-color: #174EA6;\n",
              "      --disabled-fill-color: #AAA;\n",
              "      --disabled-bg-color: #DDD;\n",
              "  }\n",
              "\n",
              "  [theme=dark] .colab-df-quickchart {\n",
              "      --bg-color: #3B4455;\n",
              "      --fill-color: #D2E3FC;\n",
              "      --hover-bg-color: #434B5C;\n",
              "      --hover-fill-color: #FFFFFF;\n",
              "      --disabled-bg-color: #3B4455;\n",
              "      --disabled-fill-color: #666;\n",
              "  }\n",
              "\n",
              "  .colab-df-quickchart {\n",
              "    background-color: var(--bg-color);\n",
              "    border: none;\n",
              "    border-radius: 50%;\n",
              "    cursor: pointer;\n",
              "    display: none;\n",
              "    fill: var(--fill-color);\n",
              "    height: 32px;\n",
              "    padding: 0;\n",
              "    width: 32px;\n",
              "  }\n",
              "\n",
              "  .colab-df-quickchart:hover {\n",
              "    background-color: var(--hover-bg-color);\n",
              "    box-shadow: 0 1px 2px rgba(60, 64, 67, 0.3), 0 1px 3px 1px rgba(60, 64, 67, 0.15);\n",
              "    fill: var(--button-hover-fill-color);\n",
              "  }\n",
              "\n",
              "  .colab-df-quickchart-complete:disabled,\n",
              "  .colab-df-quickchart-complete:disabled:hover {\n",
              "    background-color: var(--disabled-bg-color);\n",
              "    fill: var(--disabled-fill-color);\n",
              "    box-shadow: none;\n",
              "  }\n",
              "\n",
              "  .colab-df-spinner {\n",
              "    border: 2px solid var(--fill-color);\n",
              "    border-color: transparent;\n",
              "    border-bottom-color: var(--fill-color);\n",
              "    animation:\n",
              "      spin 1s steps(1) infinite;\n",
              "  }\n",
              "\n",
              "  @keyframes spin {\n",
              "    0% {\n",
              "      border-color: transparent;\n",
              "      border-bottom-color: var(--fill-color);\n",
              "      border-left-color: var(--fill-color);\n",
              "    }\n",
              "    20% {\n",
              "      border-color: transparent;\n",
              "      border-left-color: var(--fill-color);\n",
              "      border-top-color: var(--fill-color);\n",
              "    }\n",
              "    30% {\n",
              "      border-color: transparent;\n",
              "      border-left-color: var(--fill-color);\n",
              "      border-top-color: var(--fill-color);\n",
              "      border-right-color: var(--fill-color);\n",
              "    }\n",
              "    40% {\n",
              "      border-color: transparent;\n",
              "      border-right-color: var(--fill-color);\n",
              "      border-top-color: var(--fill-color);\n",
              "    }\n",
              "    60% {\n",
              "      border-color: transparent;\n",
              "      border-right-color: var(--fill-color);\n",
              "    }\n",
              "    80% {\n",
              "      border-color: transparent;\n",
              "      border-right-color: var(--fill-color);\n",
              "      border-bottom-color: var(--fill-color);\n",
              "    }\n",
              "    90% {\n",
              "      border-color: transparent;\n",
              "      border-bottom-color: var(--fill-color);\n",
              "    }\n",
              "  }\n",
              "</style>\n",
              "\n",
              "  <script>\n",
              "    async function quickchart(key) {\n",
              "      const quickchartButtonEl =\n",
              "        document.querySelector('#' + key + ' button');\n",
              "      quickchartButtonEl.disabled = true;  // To prevent multiple clicks.\n",
              "      quickchartButtonEl.classList.add('colab-df-spinner');\n",
              "      try {\n",
              "        const charts = await google.colab.kernel.invokeFunction(\n",
              "            'suggestCharts', [key], {});\n",
              "      } catch (error) {\n",
              "        console.error('Error during call to suggestCharts:', error);\n",
              "      }\n",
              "      quickchartButtonEl.classList.remove('colab-df-spinner');\n",
              "      quickchartButtonEl.classList.add('colab-df-quickchart-complete');\n",
              "    }\n",
              "    (() => {\n",
              "      let quickchartButtonEl =\n",
              "        document.querySelector('#df-42e16abd-5f91-4540-bbee-b21b1e776206 button');\n",
              "      quickchartButtonEl.style.display =\n",
              "        google.colab.kernel.accessAllowed ? 'block' : 'none';\n",
              "    })();\n",
              "  </script>\n",
              "</div>\n",
              "\n",
              "    </div>\n",
              "  </div>\n"
            ],
            "application/vnd.google.colaboratory.intrinsic+json": {
              "type": "dataframe",
              "variable_name": "df",
              "summary": "{\n  \"name\": \"df\",\n  \"rows\": 78617,\n  \"fields\": [\n    {\n      \"column\": \"text\",\n      \"properties\": {\n        \"dtype\": \"string\",\n        \"num_unique_values\": 68604,\n        \"samples\": [\n          \"Former Russian economy minister Alexei Ulyukayev, accused of extorting a bribe, told a court on Monday he thought a bag holding $2 million in cash which he took from Rosneft (ROSN.MM) chief executive Igor Sechin held a gift of expensive alcohol. Ulyukayev faces up to 15 years in prison if found guilty of  accepting the $2 million cash from Sechin, a close ally of President Vladimir Putin. Prosecutors said the bribe was given last year on Nov. 14 in exchange for Ulyukayev approving the sale of a state-controlled oil company Bashneft (BANE.MM) to Rosneft. Police detained Ulyukayev inside Rosneft headquarters shortly after Sechin handed him the cash inside a lockable brown bag and  a little basket with sausage  as a gift, prosecutors said. . The next day Putin fired Ulyukayev. Ulyukayev, speaking to the court, said he had believed the package contained a gift but that a trap had been set for him.  All this was an action directed against me, planned in advance, a provocation organized in advance,  he said.  Ulyukayev s lawyers are trying to explain to the court why he accepted the bag from Sechin given that\",\n          \"Republicans were just given a leg up over Democrats in this fall s presidential election in the battleground state of North Carolina, and they have a judge put in place by George W. Bush to thank for it.Federal judge Thomas D. Schroeder decided in favor of Republican legislators in court on Monday, letting a controversial voter ID law stay in place despite strong objections from civil rights groups.Research on Voter ID laws have shown that these laws are often a reliable way for Republican conservatives to cut down on voters that often vote for Democrats, especially minorities and young voters.The judge, Thomas D. Schroeder of Federal District Court in Winston-Salem, wrote near the end of his 485-page opinion that  North Carolina has provided legitimate state interests for its voter ID requirement and electoral system. North Carolina s voter identification law requires people to display one of six credentials, such as a driver s license or passport, before casting a ballot. Those who cannot may complete a  reasonable impediment declaration  and cast a provisional ballot.Schroeder was officially put in place on January 8, 2008, at the beginning of George W. Bush s last year in office.The North Carolina law also banned same-day registration, cut down on the amount of days available for early voting, and stops 16 and 17-year-olds from preregistering to vote.An expert testified at the trial that the law was designed in a way to put extra burden on black and Latino voters. Republican legislators and the state s GOP governor Pat McCrory deny the claim.In 2012, a Republican Pennsylvania State House leader bragged that that state s voter ID laws would  allow Governor Romney to win the state of Pennsylvania  (he didn t), while recently a Republican congressman from Wisconsin said voter ID would make the state   which has recently voted for Democrats   competitive in the fall for Republicans.President Obama won North Carolina in 2008 by 0.32% then lost it in 2012 by 2.04%. Polling in March showed the race in North Carolina effectively a toss-up between the Democratic and Republican presidential front runners.Featured image via Flickr\",\n          \"This has to be one of the best remix videos ever! It gets to the heart of the callousness and self-serving attitude of Clinton.\"\n        ],\n        \"semantic_type\": \"\",\n        \"description\": \"\"\n      }\n    },\n    {\n      \"column\": \"label\",\n      \"properties\": {\n        \"dtype\": \"number\",\n        \"std\": 0,\n        \"min\": 0,\n        \"max\": 1,\n        \"num_unique_values\": 2,\n        \"samples\": [\n          0,\n          1\n        ],\n        \"semantic_type\": \"\",\n        \"description\": \"\"\n      }\n    }\n  ]\n}"
            }
          },
          "metadata": {},
          "execution_count": 6
        }
      ]
    },
    {
      "cell_type": "code",
      "source": [
        "df.info()"
      ],
      "metadata": {
        "colab": {
          "base_uri": "https://localhost:8080/"
        },
        "id": "xwm7xow4qMKk",
        "outputId": "76757789-d7eb-43e7-d77b-2cfb838764ef"
      },
      "execution_count": 7,
      "outputs": [
        {
          "output_type": "stream",
          "name": "stdout",
          "text": [
            "<class 'pandas.core.frame.DataFrame'>\n",
            "RangeIndex: 78617 entries, 0 to 78616\n",
            "Data columns (total 2 columns):\n",
            " #   Column  Non-Null Count  Dtype \n",
            "---  ------  --------------  ----- \n",
            " 0   text    78588 non-null  object\n",
            " 1   label   78617 non-null  int64 \n",
            "dtypes: int64(1), object(1)\n",
            "memory usage: 1.2+ MB\n"
          ]
        }
      ]
    },
    {
      "cell_type": "code",
      "source": [
        "df=df.dropna(how=\"any\")\n",
        "df.info()"
      ],
      "metadata": {
        "colab": {
          "base_uri": "https://localhost:8080/"
        },
        "id": "ZsKIpxYIqN0q",
        "outputId": "a5a105b7-9ab5-4a0d-a8c7-9bcc02c629b1"
      },
      "execution_count": 8,
      "outputs": [
        {
          "output_type": "stream",
          "name": "stdout",
          "text": [
            "<class 'pandas.core.frame.DataFrame'>\n",
            "Index: 78588 entries, 0 to 78616\n",
            "Data columns (total 2 columns):\n",
            " #   Column  Non-Null Count  Dtype \n",
            "---  ------  --------------  ----- \n",
            " 0   text    78588 non-null  object\n",
            " 1   label   78588 non-null  int64 \n",
            "dtypes: int64(1), object(1)\n",
            "memory usage: 1.8+ MB\n"
          ]
        }
      ]
    },
    {
      "cell_type": "code",
      "source": [
        "plt.figure(figsize=(6, 4))\n",
        "sns.countplot(x='label', data=df, palette='Set2')\n",
        "plt.title('Distribution of True vs Fake News')\n",
        "plt.xticks([0, 1], ['Fake', 'True'])\n",
        "plt.xlabel('Label')\n",
        "plt.ylabel('Count')\n",
        "plt.show()"
      ],
      "metadata": {
        "colab": {
          "base_uri": "https://localhost:8080/",
          "height": 410
        },
        "id": "qTXvL1weqQxi",
        "outputId": "8f495d50-169c-491f-a0a8-e2aa37a98ea3"
      },
      "execution_count": 9,
      "outputs": [
        {
          "output_type": "display_data",
          "data": {
            "text/plain": [
              "<Figure size 600x400 with 1 Axes>"
            ],
            "image/png": "[encoded data removed]"
          },
          "metadata": {}
        }
      ]
    },
    {
      "cell_type": "code",
      "source": [
        "import nltk\n",
        "nltk.download('stopwords')\n"
      ],
      "metadata": {
        "colab": {
          "base_uri": "https://localhost:8080/"
        },
        "id": "KnA1ybd4q08F",
        "outputId": "35632358-daee-4f3c-df43-2fd60d24dccd"
      },
      "execution_count": null,
      "outputs": [
        {
          "output_type": "stream",
          "name": "stderr",
          "text": [
            "[nltk_data] Downloading package stopwords to /root/nltk_data...\n",
            "[nltk_data]   Unzipping corpora/stopwords.zip.\n"
          ]
        },
        {
          "output_type": "execute_result",
          "data": {
            "text/plain": [
              "True"
            ]
          },
          "metadata": {},
          "execution_count": 12
        }
      ]
    },
    {
      "cell_type": "code",
      "source": [
        "import nltk\n",
        "nltk.download('punkt')\n"
      ],
      "metadata": {
        "colab": {
          "base_uri": "https://localhost:8080/"
        },
        "id": "FdRSCZVire6I",
        "outputId": "379d390e-8abe-4d5e-b867-c87ba29b4dbb"
      },
      "execution_count": null,
      "outputs": [
        {
          "output_type": "stream",
          "name": "stderr",
          "text": [
            "[nltk_data] Downloading package punkt to /root/nltk_data...\n",
            "[nltk_data]   Unzipping tokenizers/punkt.zip.\n"
          ]
        },
        {
          "output_type": "execute_result",
          "data": {
            "text/plain": [
              "True"
            ]
          },
          "metadata": {},
          "execution_count": 15
        }
      ]
    },
    {
      "cell_type": "code",
      "source": [
        "nltk.download('punkt', download_dir='/content/nltk_data')\n",
        "\n"
      ],
      "metadata": {
        "colab": {
          "base_uri": "https://localhost:8080/"
        },
        "id": "-Cg_bnd_rlh1",
        "outputId": "4cc2d8f3-0460-44e4-9452-d23356d7caf2"
      },
      "execution_count": null,
      "outputs": [
        {
          "output_type": "stream",
          "name": "stderr",
          "text": [
            "[nltk_data] Downloading package punkt to /content/nltk_data...\n",
            "[nltk_data]   Unzipping tokenizers/punkt.zip.\n"
          ]
        },
        {
          "output_type": "execute_result",
          "data": {
            "text/plain": [
              "True"
            ]
          },
          "metadata": {},
          "execution_count": 17
        }
      ]
    },
    {
      "cell_type": "code",
      "source": [
        "nltk.data.path.append('/content/nltk_data')\n"
      ],
      "metadata": {
        "id": "ig-YrIAKrudk"
      },
      "execution_count": null,
      "outputs": []
    },
    {
      "cell_type": "code",
      "source": [
        "# import spacy\n",
        "# from sklearn.feature_extraction.text import TfidfVectorizer\n",
        "# import pandas as pd\n",
        "\n",
        "# # Load English language model\n",
        "# nlp = spacy.load(\"en_core_web_sm\")\n",
        "\n",
        "# # Define preprocessing function\n",
        "# def preprocess_text(text):\n",
        "#     doc = nlp(text, disable=[\"parser\", \"ner\"])\n",
        "#     tokens = [token.text.lower() for token in doc if not token.is_stop and len(token.text) > 1]\n",
        "#     return \" \".join(tokens)\n",
        "\n",
        "# # Apply preprocessing\n",
        "# df[\"text\"] = df[\"text\"].apply(preprocess_text)\n",
        "\n",
        "# # Vectorize text\n",
        "# vectorizer = TfidfVectorizer()\n",
        "# X = vectorizer.fit_transform(df[\"text\"])\n",
        "\n",
        "# y = df[\"label\"].values"
      ],
      "metadata": {
        "id": "vW99yVFAqXUV"
      },
      "execution_count": null,
      "outputs": []
    },
    {
      "cell_type": "code",
      "source": [
        "import re\n",
        "from collections import Counter\n",
        "\n",
        "def tokenize_text(text):\n",
        "    text = text.lower()\n",
        "    tokens = re.findall(r'\\b\\w+\\b', text)\n",
        "    stop_words = {\"the\", \"and\", \"a\", \"is\", \"in\", \"it\", \"of\", \"to\"}\n",
        "    tokens = [t for t in tokens if t not in stop_words and len(t) > 1]\n",
        "    return tokens\n",
        "\n",
        "# Apply tokenization\n",
        "X = df[\"text\"].apply(tokenize_text).values.tolist()"
      ],
      "metadata": {
        "id": "CpUVlRNLvQtw"
      },
      "execution_count": 10,
      "outputs": []
    },
    {
      "cell_type": "code",
      "source": [
        "import gensim\n",
        "\n",
        "EMBEDDING_DIM = 100\n",
        "\n",
        "w2v_model = gensim.models.Word2Vec(\n",
        "    sentences=X,\n",
        "    vector_size=EMBEDDING_DIM,\n",
        "    window=5,\n",
        "    min_count=1,\n",
        "    workers=4\n",
        ")"
      ],
      "metadata": {
        "id": "Crt6sP3zvLG-"
      },
      "execution_count": 11,
      "outputs": []
    },
    {
      "cell_type": "code",
      "source": [
        "len(w2v_model.wv.index_to_key)"
      ],
      "metadata": {
        "colab": {
          "base_uri": "https://localhost:8080/"
        },
        "id": "CFw1S3JsqXXB",
        "outputId": "06f8b541-335e-4823-ea38-0623765a6531"
      },
      "execution_count": 12,
      "outputs": [
        {
          "output_type": "execute_result",
          "data": {
            "text/plain": [
              "240981"
            ]
          },
          "metadata": {},
          "execution_count": 12
        }
      ]
    },
    {
      "cell_type": "code",
      "source": [
        "w2v_model.wv[\"war\"]"
      ],
      "metadata": {
        "colab": {
          "base_uri": "https://localhost:8080/"
        },
        "id": "4ouc26JzqXZ4",
        "outputId": "4b54652f-39f8-4278-a120-f6b337314e61"
      },
      "execution_count": 13,
      "outputs": [
        {
          "output_type": "execute_result",
          "data": {
            "text/plain": [
              "array([ 3.185018  , -1.6890612 ,  2.1304097 ,  0.33408153, -3.4756    ,\n",
              "       -2.2373915 ,  3.0495548 ,  0.254257  , -0.02249726,  0.82633185,\n",
              "        4.009998  ,  3.9246638 , -2.4553506 ,  2.0281832 ,  2.4161913 ,\n",
              "        2.884763  ,  0.13171059, -4.2210927 , -0.6981099 ,  1.9470714 ,\n",
              "       -0.7123041 , -1.9709795 , -2.6075869 ,  1.92905   ,  2.1215084 ,\n",
              "       -1.2191925 , -2.8434148 ,  0.931857  , -3.554801  ,  3.600389  ,\n",
              "       -1.0103352 ,  0.0822624 , -1.011624  ,  1.8507814 ,  2.3936183 ,\n",
              "        3.427245  ,  0.6823266 ,  0.37572408, -2.4822388 , -6.8364506 ,\n",
              "        3.7907033 , -0.3452501 ,  1.2578499 ,  0.29610655,  3.1329672 ,\n",
              "        0.2785667 , -1.2158664 ,  2.0940447 ,  0.5622373 ,  1.3490541 ,\n",
              "       -3.8940961 ,  0.7760379 ,  0.54477143,  1.73749   , -1.0465297 ,\n",
              "       -1.5592668 ,  3.2198162 ,  2.375879  , -3.8571126 , -1.8759894 ,\n",
              "       -3.128323  , -0.705598  ,  0.5361208 , -1.3105658 ,  2.28159   ,\n",
              "        0.6248172 , -2.0418918 , -4.990576  ,  1.9082243 , -2.0072544 ,\n",
              "        1.10219   ,  2.2983766 , -2.041548  ,  0.3556145 ,  0.1911772 ,\n",
              "       -0.73318344,  0.16214392, -1.3929751 , -1.981564  ,  0.47705898,\n",
              "        1.8682201 ,  1.5327922 ,  5.3141303 ,  0.30358335,  2.4018767 ,\n",
              "        4.828401  , -3.0644631 , -4.129749  , -2.529097  ,  1.5332898 ,\n",
              "        0.7711018 , -0.26914963,  0.37311664,  0.32165805, -2.171871  ,\n",
              "        2.5734975 ,  1.9142764 ,  1.1698177 ,  1.7858895 ,  3.451042  ],\n",
              "      dtype=float32)"
            ]
          },
          "metadata": {},
          "execution_count": 13
        }
      ]
    },
    {
      "cell_type": "code",
      "source": [
        "w2v_model.wv.most_similar(\"pandemic\")"
      ],
      "metadata": {
        "colab": {
          "base_uri": "https://localhost:8080/"
        },
        "id": "H8BtduSyqXci",
        "outputId": "b7da33b3-a212-4aa8-e696-926de7a908b2"
      },
      "execution_count": 14,
      "outputs": [
        {
          "output_type": "execute_result",
          "data": {
            "text/plain": [
              "[('poisoning', 0.6444534063339233),\n",
              " ('epidemics', 0.6389155983924866),\n",
              " ('infectious', 0.6326056718826294),\n",
              " ('waterborne', 0.6309366822242737),\n",
              " ('preventable', 0.6143419742584229),\n",
              " ('mumps', 0.5959166288375854),\n",
              " ('induced', 0.5958805680274963),\n",
              " ('outbreaks', 0.5870922803878784),\n",
              " ('neurotoxic', 0.5800142288208008),\n",
              " ('displacement', 0.5781852602958679)]"
            ]
          },
          "metadata": {},
          "execution_count": 14
        }
      ]
    },
    {
      "cell_type": "code",
      "source": [
        "w2v_model.wv.most_similar(\"japan\")"
      ],
      "metadata": {
        "colab": {
          "base_uri": "https://localhost:8080/"
        },
        "id": "vXV8qrsNqXe5",
        "outputId": "07846f76-bdec-4dfb-90ed-d44a1223b96f"
      },
      "execution_count": 15,
      "outputs": [
        {
          "output_type": "execute_result",
          "data": {
            "text/plain": [
              "[('china', 0.7792277336120605),\n",
              " ('india', 0.7412481904029846),\n",
              " ('tokyo', 0.6988884806632996),\n",
              " ('beijing', 0.6908328533172607),\n",
              " ('philippines', 0.681323230266571),\n",
              " ('asia', 0.6605242490768433),\n",
              " ('norway', 0.6562319993972778),\n",
              " ('pyongyang', 0.6508187651634216),\n",
              " ('australia', 0.6285867094993591),\n",
              " ('japanese', 0.6216066479682922)]"
            ]
          },
          "metadata": {},
          "execution_count": 15
        }
      ]
    },
    {
      "cell_type": "code",
      "source": [
        "w2v_model.wv.most_similar(\"innovation\")"
      ],
      "metadata": {
        "colab": {
          "base_uri": "https://localhost:8080/"
        },
        "id": "HimUqznsqXh6",
        "outputId": "c2fb08b8-369d-401b-c313-5813af664b92"
      },
      "execution_count": 16,
      "outputs": [
        {
          "output_type": "execute_result",
          "data": {
            "text/plain": [
              "[('entrepreneurship', 0.7733542919158936),\n",
              " ('sustainable', 0.7563331127166748),\n",
              " ('innovative', 0.7503958344459534),\n",
              " ('development', 0.7470537424087524),\n",
              " ('resource', 0.7272653579711914),\n",
              " ('technology', 0.7166914939880371),\n",
              " ('technological', 0.7162104249000549),\n",
              " ('partnerships', 0.6577810049057007),\n",
              " ('efficiency', 0.6513648629188538),\n",
              " ('architecture', 0.6511150598526001)]"
            ]
          },
          "metadata": {},
          "execution_count": 16
        }
      ]
    },
    {
      "cell_type": "code",
      "source": [
        "w2v_model.wv.most_similar(positive=[\"beatles\",\"stones\", \"england\"])"
      ],
      "metadata": {
        "colab": {
          "base_uri": "https://localhost:8080/"
        },
        "id": "OLMuH_KpqXlL",
        "outputId": "d2679d5c-29f7-4f5b-ee3d-3260e9eafb64"
      },
      "execution_count": 17,
      "outputs": [
        {
          "output_type": "execute_result",
          "data": {
            "text/plain": [
              "[('castle', 0.7109895944595337),\n",
              " ('café', 0.7054446339607239),\n",
              " ('antique', 0.6923287510871887),\n",
              " ('tavern', 0.691148042678833),\n",
              " ('dolls', 0.688064694404602),\n",
              " ('piano', 0.6863483190536499),\n",
              " ('drummer', 0.6862443089485168),\n",
              " ('velvet', 0.6848033666610718),\n",
              " ('oak', 0.6820524334907532),\n",
              " ('plymouth', 0.6761486530303955)]"
            ]
          },
          "metadata": {},
          "execution_count": 17
        }
      ]
    },
    {
      "cell_type": "code",
      "source": [
        "tokenizer = Tokenizer()\n",
        "tokenizer.fit_on_texts(X)\n",
        "\n",
        "X = tokenizer.texts_to_sequences(X)"
      ],
      "metadata": {
        "id": "BtrbW4VXqXny"
      },
      "execution_count": 18,
      "outputs": []
    },
    {
      "cell_type": "code",
      "source": [
        "X[0][:10]"
      ],
      "metadata": {
        "colab": {
          "base_uri": "https://localhost:8080/"
        },
        "id": "rOwO7JXiqXqC",
        "outputId": "e8e9abab-9ccf-4ecb-b282-bcf94037b18e"
      },
      "execution_count": 19,
      "outputs": [
        {
          "output_type": "execute_result",
          "data": {
            "text/plain": [
              "[462, 407, 98, 7014, 228, 23, 893, 14, 296, 2]"
            ]
          },
          "metadata": {},
          "execution_count": 19
        }
      ]
    },
    {
      "cell_type": "code",
      "source": [
        "word_index = tokenizer.word_index\n",
        "for word, num in word_index.items():\n",
        "    print(f\"{word} -> {num}\")\n",
        "    if num == 10:\n",
        "        break"
      ],
      "metadata": {
        "colab": {
          "base_uri": "https://localhost:8080/"
        },
        "id": "E7-Qdr_DqXsl",
        "outputId": "7db2988f-a758-49ee-895a-53601331eb50"
      },
      "execution_count": 20,
      "outputs": [
        {
          "output_type": "stream",
          "name": "stdout",
          "text": [
            "that -> 1\n",
            "for -> 2\n",
            "on -> 3\n",
            "he -> 4\n",
            "with -> 5\n",
            "was -> 6\n",
            "as -> 7\n",
            "said -> 8\n",
            "trump -> 9\n",
            "by -> 10\n"
          ]
        }
      ]
    },
    {
      "cell_type": "code",
      "source": [
        "plt.figure(figsize=(12, 6))\n",
        "plt.title(\"Distribution of Text Lengths\", fontsize=16)\n",
        "plt.xlabel(\"Number of Words\", fontsize=14)\n",
        "plt.ylabel(\"Frequency\", fontsize=14)\n",
        "plt.hist([len(x) for x in X], bins=500)\n",
        "plt.show()"
      ],
      "metadata": {
        "colab": {
          "base_uri": "https://localhost:8080/",
          "height": 571
        },
        "id": "jMpTWWn2qXvT",
        "outputId": "05e86d1e-62e0-4948-8732-c7da46a59dde"
      },
      "execution_count": 21,
      "outputs": [
        {
          "output_type": "display_data",
          "data": {
            "text/plain": [
              "<Figure size 1200x600 with 1 Axes>"
            ],
            "image/png": "[encoded data removed]"
          },
          "metadata": {}
        }
      ]
    },
    {
      "cell_type": "code",
      "source": [
        "nos = np.array([len(x) for x in X])\n",
        "len(nos[nos  < 1000])"
      ],
      "metadata": {
        "colab": {
          "base_uri": "https://localhost:8080/"
        },
        "id": "AHBBZ42bqXxv",
        "outputId": "541785ec-2c68-45d2-da4d-0ae9476442bf"
      },
      "execution_count": 22,
      "outputs": [
        {
          "output_type": "execute_result",
          "data": {
            "text/plain": [
              "73616"
            ]
          },
          "metadata": {},
          "execution_count": 22
        }
      ]
    },
    {
      "cell_type": "code",
      "source": [
        "maxlen = 1000\n",
        "X = pad_sequences(X, maxlen=maxlen)\n",
        "len(X[0])"
      ],
      "metadata": {
        "colab": {
          "base_uri": "https://localhost:8080/"
        },
        "id": "6HQ3yQwnqX0R",
        "outputId": "f3826f5b-8da9-458b-cc87-8453598abcea"
      },
      "execution_count": 23,
      "outputs": [
        {
          "output_type": "execute_result",
          "data": {
            "text/plain": [
              "1000"
            ]
          },
          "metadata": {},
          "execution_count": 23
        }
      ]
    },
    {
      "cell_type": "code",
      "source": [
        "vocab_size = len(tokenizer.word_index) + 1\n",
        "def get_weight_matrix(model, vocab):\n",
        "    vocab_size = len(vocab) + 1\n",
        "    weight_matrix = np.zeros((vocab_size, EMBEDDING_DIM))\n",
        "    for word, i in vocab.items():\n",
        "        weight_matrix[i] = model[word]\n",
        "    return weight_matrix"
      ],
      "metadata": {
        "id": "fhH6yBQ3vsJe"
      },
      "execution_count": 24,
      "outputs": []
    },
    {
      "cell_type": "markdown",
      "source": [
        "**Apply LSTM**"
      ],
      "metadata": {
        "id": "XxFGGB3jJyZG"
      }
    },
    {
      "cell_type": "code",
      "source": [
        "embedding_vectors = get_weight_matrix(w2v_model.wv, word_index)\n",
        "model = Sequential()\n",
        "model.add(Embedding(vocab_size, output_dim=EMBEDDING_DIM, weights=[embedding_vectors], input_length=maxlen, trainable=False))\n",
        "model.add(LSTM(units=128))\n",
        "model.add(Dense(1, activation='sigmoid'))\n",
        "model.compile(optimizer='adam', loss='binary_crossentropy', metrics=['acc'])\n",
        "\n",
        "del embedding_vectors"
      ],
      "metadata": {
        "id": "hSaRjb9gvsMP"
      },
      "execution_count": 25,
      "outputs": []
    },
    {
      "cell_type": "code",
      "source": [
        "model.summary()"
      ],
      "metadata": {
        "colab": {
          "base_uri": "https://localhost:8080/",
          "height": 234
        },
        "id": "yXu0hyUqvsPJ",
        "outputId": "54bda1a7-17dd-4069-aed7-c1837710aa5a"
      },
      "execution_count": 26,
      "outputs": [
        {
          "output_type": "display_data",
          "data": {
            "text/plain": [
              "\u001b[1mModel: \"sequential\"\u001b[0m\n"
            ],
            "text/html": [
              "<pre style=\"white-space:pre;overflow-x:auto;line-height:normal;font-family:Menlo,'DejaVu Sans Mono',consolas,'Courier New',monospace\"><span style=\"font-weight: bold\">Model: \"sequential\"</span>\n",
              "</pre>\n"
            ]
          },
          "metadata": {}
        },
        {
          "output_type": "display_data",
          "data": {
            "text/plain": [
              "┏━━━━━━━━━━━━━━━━━━━━━━━━━━━━━━━━━━━━━━┳━━━━━━━━━━━━━━━━━━━━━━━━━━━━━┳━━━━━━━━━━━━━━━━━┓\n",
              "┃\u001b[1m \u001b[0m\u001b[1mLayer (type)                        \u001b[0m\u001b[1m \u001b[0m┃\u001b[1m \u001b[0m\u001b[1mOutput Shape               \u001b[0m\u001b[1m \u001b[0m┃\u001b[1m \u001b[0m\u001b[1m        Param #\u001b[0m\u001b[1m \u001b[0m┃\n",
              "┡━━━━━━━━━━━━━━━━━━━━━━━━━━━━━━━━━━━━━━╇━━━━━━━━━━━━━━━━━━━━━━━━━━━━━╇━━━━━━━━━━━━━━━━━┩\n",
              "│ embedding (\u001b[38;5;33mEmbedding\u001b[0m)                │ ?                           │      \u001b[38;5;34m24,098,200\u001b[0m │\n",
              "├──────────────────────────────────────┼─────────────────────────────┼─────────────────┤\n",
              "│ lstm (\u001b[38;5;33mLSTM\u001b[0m)                          │ ?                           │     \u001b[38;5;34m0\u001b[0m (unbuilt) │\n",
              "├──────────────────────────────────────┼─────────────────────────────┼─────────────────┤\n",
              "│ dense (\u001b[38;5;33mDense\u001b[0m)                        │ ?                           │     \u001b[38;5;34m0\u001b[0m (unbuilt) │\n",
              "└──────────────────────────────────────┴─────────────────────────────┴─────────────────┘\n"
            ],
            "text/html": [
              "<pre style=\"white-space:pre;overflow-x:auto;line-height:normal;font-family:Menlo,'DejaVu Sans Mono',consolas,'Courier New',monospace\">┏━━━━━━━━━━━━━━━━━━━━━━━━━━━━━━━━━━━━━━┳━━━━━━━━━━━━━━━━━━━━━━━━━━━━━┳━━━━━━━━━━━━━━━━━┓\n",
              "┃<span style=\"font-weight: bold\"> Layer (type)                         </span>┃<span style=\"font-weight: bold\"> Output Shape                </span>┃<span style=\"font-weight: bold\">         Param # </span>┃\n",
              "┡━━━━━━━━━━━━━━━━━━━━━━━━━━━━━━━━━━━━━━╇━━━━━━━━━━━━━━━━━━━━━━━━━━━━━╇━━━━━━━━━━━━━━━━━┩\n",
              "│ embedding (<span style=\"color: #0087ff; text-decoration-color: #0087ff\">Embedding</span>)                │ ?                           │      <span style=\"color: #00af00; text-decoration-color: #00af00\">24,098,200</span> │\n",
              "├──────────────────────────────────────┼─────────────────────────────┼─────────────────┤\n",
              "│ lstm (<span style=\"color: #0087ff; text-decoration-color: #0087ff\">LSTM</span>)                          │ ?                           │     <span style=\"color: #00af00; text-decoration-color: #00af00\">0</span> (unbuilt) │\n",
              "├──────────────────────────────────────┼─────────────────────────────┼─────────────────┤\n",
              "│ dense (<span style=\"color: #0087ff; text-decoration-color: #0087ff\">Dense</span>)                        │ ?                           │     <span style=\"color: #00af00; text-decoration-color: #00af00\">0</span> (unbuilt) │\n",
              "└──────────────────────────────────────┴─────────────────────────────┴─────────────────┘\n",
              "</pre>\n"
            ]
          },
          "metadata": {}
        },
        {
          "output_type": "display_data",
          "data": {
            "text/plain": [
              "\u001b[1m Total params: \u001b[0m\u001b[38;5;34m24,098,200\u001b[0m (91.93 MB)\n"
            ],
            "text/html": [
              "<pre style=\"white-space:pre;overflow-x:auto;line-height:normal;font-family:Menlo,'DejaVu Sans Mono',consolas,'Courier New',monospace\"><span style=\"font-weight: bold\"> Total params: </span><span style=\"color: #00af00; text-decoration-color: #00af00\">24,098,200</span> (91.93 MB)\n",
              "</pre>\n"
            ]
          },
          "metadata": {}
        },
        {
          "output_type": "display_data",
          "data": {
            "text/plain": [
              "\u001b[1m Trainable params: \u001b[0m\u001b[38;5;34m0\u001b[0m (0.00 B)\n"
            ],
            "text/html": [
              "<pre style=\"white-space:pre;overflow-x:auto;line-height:normal;font-family:Menlo,'DejaVu Sans Mono',consolas,'Courier New',monospace\"><span style=\"font-weight: bold\"> Trainable params: </span><span style=\"color: #00af00; text-decoration-color: #00af00\">0</span> (0.00 B)\n",
              "</pre>\n"
            ]
          },
          "metadata": {}
        },
        {
          "output_type": "display_data",
          "data": {
            "text/plain": [
              "\u001b[1m Non-trainable params: \u001b[0m\u001b[38;5;34m24,098,200\u001b[0m (91.93 MB)\n"
            ],
            "text/html": [
              "<pre style=\"white-space:pre;overflow-x:auto;line-height:normal;font-family:Menlo,'DejaVu Sans Mono',consolas,'Courier New',monospace\"><span style=\"font-weight: bold\"> Non-trainable params: </span><span style=\"color: #00af00; text-decoration-color: #00af00\">24,098,200</span> (91.93 MB)\n",
              "</pre>\n"
            ]
          },
          "metadata": {}
        }
      ]
    },
    {
      "cell_type": "code",
      "source": [
        "y = df['label'].values\n",
        "X_train, X_test, y_train, y_test = train_test_split(X, y, test_size=0.2, random_state=42)"
      ],
      "metadata": {
        "id": "x_qtFGpnvsRz"
      },
      "execution_count": 30,
      "outputs": []
    },
    {
      "cell_type": "code",
      "source": [
        "model.fit(X_train, y_train, validation_split=0.3, epochs=1)"
      ],
      "metadata": {
        "colab": {
          "base_uri": "https://localhost:8080/"
        },
        "id": "V5dg1CBavsT_",
        "outputId": "fabc9305-a30d-4c4f-a32d-9749c9727bd3"
      },
      "execution_count": 32,
      "outputs": [
        {
          "output_type": "stream",
          "name": "stdout",
          "text": [
            "\u001b[1m1376/1376\u001b[0m \u001b[32m━━━━━━━━━━━━━━━━━━━━\u001b[0m\u001b[37m\u001b[0m \u001b[1m2030s\u001b[0m 1s/step - acc: 0.9102 - loss: 0.2326 - val_acc: 0.9396 - val_loss: 0.1518\n"
          ]
        },
        {
          "output_type": "execute_result",
          "data": {
            "text/plain": [
              "<keras.src.callbacks.history.History at 0x7e2e2e5be110>"
            ]
          },
          "metadata": {},
          "execution_count": 32
        }
      ]
    },
    {
      "cell_type": "code",
      "source": [
        "y_pred = (model.predict(X_test) >= 0.5).astype(\"int\")"
      ],
      "metadata": {
        "colab": {
          "base_uri": "https://localhost:8080/"
        },
        "id": "5IjLCvGFvsWq",
        "outputId": "104cc07a-5ea0-4d3c-edc7-a0bbc5f6a4ef"
      },
      "execution_count": 33,
      "outputs": [
        {
          "output_type": "stream",
          "name": "stdout",
          "text": [
            "\u001b[1m492/492\u001b[0m \u001b[32m━━━━━━━━━━━━━━━━━━━━\u001b[0m\u001b[37m\u001b[0m \u001b[1m239s\u001b[0m 486ms/step\n"
          ]
        }
      ]
    },
    {
      "cell_type": "code",
      "source": [
        "accuracy_score(y_test, y_pred)"
      ],
      "metadata": {
        "colab": {
          "base_uri": "https://localhost:8080/"
        },
        "id": "oW1fL9aivsZc",
        "outputId": "e0e3127a-e0b6-456f-e872-b1a6a3fa1ca3"
      },
      "execution_count": 35,
      "outputs": [
        {
          "output_type": "execute_result",
          "data": {
            "text/plain": [
              "0.9389235271663061"
            ]
          },
          "metadata": {},
          "execution_count": 35
        }
      ]
    },
    {
      "cell_type": "code",
      "source": [
        "print(classification_report(y_test, y_pred))"
      ],
      "metadata": {
        "colab": {
          "base_uri": "https://localhost:8080/"
        },
        "id": "ptls0Sq-vsdI",
        "outputId": "d08b473a-7fc2-40b0-fdfd-00c9d29f037c"
      },
      "execution_count": 36,
      "outputs": [
        {
          "output_type": "stream",
          "name": "stdout",
          "text": [
            "              precision    recall  f1-score   support\n",
            "\n",
            "           0       0.94      0.96      0.95      8707\n",
            "           1       0.94      0.92      0.93      7011\n",
            "\n",
            "    accuracy                           0.94     15718\n",
            "   macro avg       0.94      0.94      0.94     15718\n",
            "weighted avg       0.94      0.94      0.94     15718\n",
            "\n"
          ]
        }
      ]
    },
    {
      "cell_type": "markdown",
      "source": [
        "**Apply GRU**"
      ],
      "metadata": {
        "id": "bQ5Eit-jTh_n"
      }
    },
    {
      "cell_type": "code",
      "source": [
        "from tensorflow.keras.layers import GRU\n",
        "embedding_vectors = get_weight_matrix(w2v_model.wv, word_index)\n",
        "# Define the GRU model\n",
        "model_gru = Sequential()\n",
        "model_gru.add(Embedding(vocab_size,\n",
        "                        output_dim=EMBEDDING_DIM,\n",
        "                        weights=[embedding_vectors],\n",
        "                        input_length=maxlen,\n",
        "                        trainable=False))  # Use pre-trained embeddings\n",
        "model_gru.add(GRU(units=128))  # Add a GRU layer with 128 units\n",
        "model_gru.add(Dense(1, activation='sigmoid'))  # Output layer for binary classification\n",
        "model_gru.compile(optimizer='adam', loss='binary_crossentropy', metrics=['acc'])\n"
      ],
      "metadata": {
        "id": "-n26szp_vsf_"
      },
      "execution_count": 38,
      "outputs": []
    },
    {
      "cell_type": "code",
      "source": [
        "model_gru.summary()"
      ],
      "metadata": {
        "id": "B1Ah1IBKvsh3",
        "colab": {
          "base_uri": "https://localhost:8080/",
          "height": 234
        },
        "outputId": "c50d83da-af1b-4613-d470-6342c3247f9a"
      },
      "execution_count": 39,
      "outputs": [
        {
          "output_type": "display_data",
          "data": {
            "text/plain": [
              "\u001b[1mModel: \"sequential_2\"\u001b[0m\n"
            ],
            "text/html": [
              "<pre style=\"white-space:pre;overflow-x:auto;line-height:normal;font-family:Menlo,'DejaVu Sans Mono',consolas,'Courier New',monospace\"><span style=\"font-weight: bold\">Model: \"sequential_2\"</span>\n",
              "</pre>\n"
            ]
          },
          "metadata": {}
        },
        {
          "output_type": "display_data",
          "data": {
            "text/plain": [
              "┏━━━━━━━━━━━━━━━━━━━━━━━━━━━━━━━━━━━━━━┳━━━━━━━━━━━━━━━━━━━━━━━━━━━━━┳━━━━━━━━━━━━━━━━━┓\n",
              "┃\u001b[1m \u001b[0m\u001b[1mLayer (type)                        \u001b[0m\u001b[1m \u001b[0m┃\u001b[1m \u001b[0m\u001b[1mOutput Shape               \u001b[0m\u001b[1m \u001b[0m┃\u001b[1m \u001b[0m\u001b[1m        Param #\u001b[0m\u001b[1m \u001b[0m┃\n",
              "┡━━━━━━━━━━━━━━━━━━━━━━━━━━━━━━━━━━━━━━╇━━━━━━━━━━━━━━━━━━━━━━━━━━━━━╇━━━━━━━━━━━━━━━━━┩\n",
              "│ embedding_1 (\u001b[38;5;33mEmbedding\u001b[0m)              │ ?                           │      \u001b[38;5;34m24,098,200\u001b[0m │\n",
              "├──────────────────────────────────────┼─────────────────────────────┼─────────────────┤\n",
              "│ gru (\u001b[38;5;33mGRU\u001b[0m)                            │ ?                           │     \u001b[38;5;34m0\u001b[0m (unbuilt) │\n",
              "├──────────────────────────────────────┼─────────────────────────────┼─────────────────┤\n",
              "│ dense_1 (\u001b[38;5;33mDense\u001b[0m)                      │ ?                           │     \u001b[38;5;34m0\u001b[0m (unbuilt) │\n",
              "└──────────────────────────────────────┴─────────────────────────────┴─────────────────┘\n"
            ],
            "text/html": [
              "<pre style=\"white-space:pre;overflow-x:auto;line-height:normal;font-family:Menlo,'DejaVu Sans Mono',consolas,'Courier New',monospace\">┏━━━━━━━━━━━━━━━━━━━━━━━━━━━━━━━━━━━━━━┳━━━━━━━━━━━━━━━━━━━━━━━━━━━━━┳━━━━━━━━━━━━━━━━━┓\n",
              "┃<span style=\"font-weight: bold\"> Layer (type)                         </span>┃<span style=\"font-weight: bold\"> Output Shape                </span>┃<span style=\"font-weight: bold\">         Param # </span>┃\n",
              "┡━━━━━━━━━━━━━━━━━━━━━━━━━━━━━━━━━━━━━━╇━━━━━━━━━━━━━━━━━━━━━━━━━━━━━╇━━━━━━━━━━━━━━━━━┩\n",
              "│ embedding_1 (<span style=\"color: #0087ff; text-decoration-color: #0087ff\">Embedding</span>)              │ ?                           │      <span style=\"color: #00af00; text-decoration-color: #00af00\">24,098,200</span> │\n",
              "├──────────────────────────────────────┼─────────────────────────────┼─────────────────┤\n",
              "│ gru (<span style=\"color: #0087ff; text-decoration-color: #0087ff\">GRU</span>)                            │ ?                           │     <span style=\"color: #00af00; text-decoration-color: #00af00\">0</span> (unbuilt) │\n",
              "├──────────────────────────────────────┼─────────────────────────────┼─────────────────┤\n",
              "│ dense_1 (<span style=\"color: #0087ff; text-decoration-color: #0087ff\">Dense</span>)                      │ ?                           │     <span style=\"color: #00af00; text-decoration-color: #00af00\">0</span> (unbuilt) │\n",
              "└──────────────────────────────────────┴─────────────────────────────┴─────────────────┘\n",
              "</pre>\n"
            ]
          },
          "metadata": {}
        },
        {
          "output_type": "display_data",
          "data": {
            "text/plain": [
              "\u001b[1m Total params: \u001b[0m\u001b[38;5;34m24,098,200\u001b[0m (91.93 MB)\n"
            ],
            "text/html": [
              "<pre style=\"white-space:pre;overflow-x:auto;line-height:normal;font-family:Menlo,'DejaVu Sans Mono',consolas,'Courier New',monospace\"><span style=\"font-weight: bold\"> Total params: </span><span style=\"color: #00af00; text-decoration-color: #00af00\">24,098,200</span> (91.93 MB)\n",
              "</pre>\n"
            ]
          },
          "metadata": {}
        },
        {
          "output_type": "display_data",
          "data": {
            "text/plain": [
              "\u001b[1m Trainable params: \u001b[0m\u001b[38;5;34m0\u001b[0m (0.00 B)\n"
            ],
            "text/html": [
              "<pre style=\"white-space:pre;overflow-x:auto;line-height:normal;font-family:Menlo,'DejaVu Sans Mono',consolas,'Courier New',monospace\"><span style=\"font-weight: bold\"> Trainable params: </span><span style=\"color: #00af00; text-decoration-color: #00af00\">0</span> (0.00 B)\n",
              "</pre>\n"
            ]
          },
          "metadata": {}
        },
        {
          "output_type": "display_data",
          "data": {
            "text/plain": [
              "\u001b[1m Non-trainable params: \u001b[0m\u001b[38;5;34m24,098,200\u001b[0m (91.93 MB)\n"
            ],
            "text/html": [
              "<pre style=\"white-space:pre;overflow-x:auto;line-height:normal;font-family:Menlo,'DejaVu Sans Mono',consolas,'Courier New',monospace\"><span style=\"font-weight: bold\"> Non-trainable params: </span><span style=\"color: #00af00; text-decoration-color: #00af00\">24,098,200</span> (91.93 MB)\n",
              "</pre>\n"
            ]
          },
          "metadata": {}
        }
      ]
    },
    {
      "cell_type": "code",
      "source": [
        "\n",
        "# Train the GRU model\n",
        "history_gru = model_gru.fit(X_train, y_train,\n",
        "                            validation_split=0.3,\n",
        "                            epochs=1,\n",
        "                            batch_size=64)"
      ],
      "metadata": {
        "id": "HsuAo7swvsjj",
        "colab": {
          "base_uri": "https://localhost:8080/"
        },
        "outputId": "60c38211-594e-46b3-9977-a276c3ea6f49"
      },
      "execution_count": 41,
      "outputs": [
        {
          "output_type": "stream",
          "name": "stdout",
          "text": [
            "\u001b[1m688/688\u001b[0m \u001b[32m━━━━━━━━━━━━━━━━━━━━\u001b[0m\u001b[37m\u001b[0m \u001b[1m1549s\u001b[0m 2s/step - acc: 0.8595 - loss: 0.3189 - val_acc: 0.9505 - val_loss: 0.1322\n"
          ]
        }
      ]
    },
    {
      "cell_type": "code",
      "source": [
        "y_pred_gru = (model_gru.predict(X_test) >= 0.5).astype(\"int\")"
      ],
      "metadata": {
        "colab": {
          "base_uri": "https://localhost:8080/"
        },
        "id": "P_3fs6GbUBdw",
        "outputId": "9987aee5-7ab0-4142-ad72-fd20f261b242"
      },
      "execution_count": 42,
      "outputs": [
        {
          "output_type": "stream",
          "name": "stdout",
          "text": [
            "\u001b[1m492/492\u001b[0m \u001b[32m━━━━━━━━━━━━━━━━━━━━\u001b[0m\u001b[37m\u001b[0m \u001b[1m118s\u001b[0m 239ms/step\n"
          ]
        }
      ]
    },
    {
      "cell_type": "code",
      "source": [
        "\n",
        "# Evaluate GRU model\n",
        "accuracy_gru = accuracy_score(y_test, y_pred_gru)\n",
        "print(f\"GRU Model Accuracy: {accuracy_gru}\")\n",
        "print(classification_report(y_test, y_pred_gru))"
      ],
      "metadata": {
        "colab": {
          "base_uri": "https://localhost:8080/"
        },
        "id": "CogDExggUCXK",
        "outputId": "48df941b-f280-4edb-9f12-35b86e565db8"
      },
      "execution_count": 43,
      "outputs": [
        {
          "output_type": "stream",
          "name": "stdout",
          "text": [
            "GRU Model Accuracy: 0.9492301819569919\n",
            "              precision    recall  f1-score   support\n",
            "\n",
            "           0       0.97      0.94      0.95      8707\n",
            "           1       0.93      0.96      0.94      7011\n",
            "\n",
            "    accuracy                           0.95     15718\n",
            "   macro avg       0.95      0.95      0.95     15718\n",
            "weighted avg       0.95      0.95      0.95     15718\n",
            "\n"
          ]
        }
      ]
    },
    {
      "cell_type": "code",
      "source": [
        "plt.plot(history_gru.history['acc'], label='Training Accuracy')\n",
        "plt.plot(history_gru.history['val_acc'], label='Validation Accuracy')\n",
        "plt.title('GRU Model Accuracy')\n",
        "plt.xlabel('Epochs')\n",
        "plt.ylabel('Accuracy')\n",
        "plt.legend()\n",
        "plt.show()"
      ],
      "metadata": {
        "colab": {
          "base_uri": "https://localhost:8080/",
          "height": 472
        },
        "id": "B_Ovj_ctUCaX",
        "outputId": "fee5ae9a-3db9-471c-f0bf-92c21c24de66"
      },
      "execution_count": 44,
      "outputs": [
        {
          "output_type": "display_data",
          "data": {
            "text/plain": [
              "<Figure size 640x480 with 1 Axes>"
            ],
            "image/png": "[encoded data removed]"
          },
          "metadata": {}
        }
      ]
    }
  ]
}