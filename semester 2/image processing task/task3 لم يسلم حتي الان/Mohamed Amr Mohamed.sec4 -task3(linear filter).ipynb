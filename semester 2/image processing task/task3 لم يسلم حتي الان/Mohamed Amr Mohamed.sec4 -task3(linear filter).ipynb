{
  "nbformat": 4,
  "nbformat_minor": 0,
  "metadata": {
    "colab": {
      "provenance": []
    },
    "kernelspec": {
      "name": "python3",
      "display_name": "Python 3"
    },
    "language_info": {
      "name": "python"
    }
  },
  "cells": [
    {
      "cell_type": "code",
      "execution_count": 44,
      "metadata": {
        "id": "DOPfSWBf3DiG"
      },
      "outputs": [],
      "source": [
        "import numpy as np\n",
        "import matplotlib.pyplot as plt"
      ]
    },
    {
      "cell_type": "code",
      "source": [
        "# Create a 5x5 image\n",
        "np.random.seed(42)\n",
        "image = np.random.randint(0, 256, (5, 5), dtype=np.uint8)\n",
        "print(\"Original 5x5 Image:\")\n",
        "print(image)"
      ],
      "metadata": {
        "colab": {
          "base_uri": "https://localhost:8080/"
        },
        "id": "emphzpap3J_w",
        "outputId": "3880ff1f-31bd-47b5-b503-ca74c4040832"
      },
      "execution_count": 45,
      "outputs": [
        {
          "output_type": "stream",
          "name": "stdout",
          "text": [
            "Original 5x5 Image:\n",
            "[[102 220 225  95 179]\n",
            " [ 61 234 203  92   3]\n",
            " [ 98 243  14 149 245]\n",
            " [ 46 106 244  99 187]\n",
            " [ 71 212 153 199 188]]\n"
          ]
        }
      ]
    },
    {
      "cell_type": "code",
      "source": [
        "#mask filter\n",
        "filter_size = 3\n",
        "filter_kernel = np.ones((filter_size, filter_size)) / (filter_size * filter_size)\n",
        "print(\"\\n3x3 Average Filter Kernel:\")\n",
        "print(filter_kernel)"
      ],
      "metadata": {
        "colab": {
          "base_uri": "https://localhost:8080/"
        },
        "id": "vdpy_AMr3OUB",
        "outputId": "6bbf6baf-57fc-44be-f35c-440296da1d75"
      },
      "execution_count": 46,
      "outputs": [
        {
          "output_type": "stream",
          "name": "stdout",
          "text": [
            "\n",
            "3x3 Average Filter Kernel:\n",
            "[[0.11111111 0.11111111 0.11111111]\n",
            " [0.11111111 0.11111111 0.11111111]\n",
            " [0.11111111 0.11111111 0.11111111]]\n"
          ]
        }
      ]
    },
    {
      "cell_type": "code",
      "source": [
        "# Add zero padding to the image\n",
        "pad_width = filter_size // 2\n",
        "padded_image = np.pad(image, pad_width, mode='constant', constant_values=0)\n",
        "print(\"\\nPadded Image (with zeros):\")\n",
        "print(padded_image)"
      ],
      "metadata": {
        "colab": {
          "base_uri": "https://localhost:8080/"
        },
        "id": "x8G2NTLq6g6n",
        "outputId": "fad8158d-b8ec-474b-835d-4eaf060d0156"
      },
      "execution_count": 47,
      "outputs": [
        {
          "output_type": "stream",
          "name": "stdout",
          "text": [
            "\n",
            "Padded Image (with zeros):\n",
            "[[  0   0   0   0   0   0   0]\n",
            " [  0 102 220 225  95 179   0]\n",
            " [  0  61 234 203  92   3   0]\n",
            " [  0  98 243  14 149 245   0]\n",
            " [  0  46 106 244  99 187   0]\n",
            " [  0  71 212 153 199 188   0]\n",
            " [  0   0   0   0   0   0   0]]\n"
          ]
        }
      ]
    },
    {
      "cell_type": "code",
      "source": [
        "# Function to apply the filter to a specific pixel using the padded image\n",
        "def apply_filter(padded_img, original_row, original_col, kernel, pad_width):\n",
        "\n",
        "    row = original_row + pad_width\n",
        "    col = original_col + pad_width\n",
        "\n",
        "\n",
        "    region = padded_img[row-pad_width:row+pad_width+1, col-pad_width:col+pad_width+1]\n",
        "\n",
        "\n",
        "    result = np.sum(region * kernel)\n",
        "\n",
        "    return result"
      ],
      "metadata": {
        "id": "jfQn20Cu3R-4"
      },
      "execution_count": 48,
      "outputs": []
    },
    {
      "cell_type": "code",
      "source": [
        "# Apply the filter to the first pixel\n",
        "filtered_value = apply_filter(padded_image, 0, 0, filter_kernel, pad_width)\n",
        "print(f\"\\nFiltered value at position (0,0): {filtered_value}\")"
      ],
      "metadata": {
        "colab": {
          "base_uri": "https://localhost:8080/"
        },
        "id": "4vrIqeOr3SFw",
        "outputId": "a64f5820-ef19-4394-d1db-d0d5ddf507c4"
      },
      "execution_count": 49,
      "outputs": [
        {
          "output_type": "stream",
          "name": "stdout",
          "text": [
            "\n",
            "Filtered value at position (0,0): 68.55555555555554\n"
          ]
        }
      ]
    },
    {
      "cell_type": "code",
      "source": [
        "filtered_image = image.copy()\n",
        "filtered_image[0, 0] = int(filtered_value)"
      ],
      "metadata": {
        "id": "KuvqlNqU3SII"
      },
      "execution_count": 50,
      "outputs": []
    },
    {
      "cell_type": "code",
      "source": [
        "print(\"\\nImage after filtering the first pixel:\")\n",
        "print(filtered_image)"
      ],
      "metadata": {
        "colab": {
          "base_uri": "https://localhost:8080/"
        },
        "id": "ZI2WkZrT3SK6",
        "outputId": "6d2ad27f-c296-4033-806c-ae1116cf6ae3"
      },
      "execution_count": 51,
      "outputs": [
        {
          "output_type": "stream",
          "name": "stdout",
          "text": [
            "\n",
            "Image after filtering the first pixel:\n",
            "[[ 68 220 225  95 179]\n",
            " [ 61 234 203  92   3]\n",
            " [ 98 243  14 149 245]\n",
            " [ 46 106 244  99 187]\n",
            " [ 71 212 153 199 188]]\n"
          ]
        }
      ]
    },
    {
      "cell_type": "code",
      "source": [
        "# Visualize the original, padded, and filtered images\n",
        "plt.figure(figsize=(15, 5))\n",
        "\n",
        "plt.subplot(1, 3, 1)\n",
        "plt.imshow(image, cmap='gray', vmin=0, vmax=255)\n",
        "plt.title('Original 5x5 Image')\n",
        "plt.colorbar()\n",
        "plt.grid(True)\n",
        "\n",
        "plt.subplot(1, 3, 2)\n",
        "plt.imshow(padded_image, cmap='gray', vmin=0, vmax=255)\n",
        "plt.title('Padded Image (7x7)')\n",
        "plt.colorbar()\n",
        "plt.grid(True)\n",
        "\n",
        "plt.subplot(1, 3, 3)\n",
        "plt.imshow(filtered_image, cmap='gray', vmin=0, vmax=255)\n",
        "plt.title('Image with First Pixel Filtered')\n",
        "plt.colorbar()\n",
        "plt.grid(True)\n",
        "\n",
        "plt.tight_layout()\n",
        "plt.show()"
      ],
      "metadata": {
        "colab": {
          "base_uri": "https://localhost:8080/",
          "height": 480
        },
        "id": "pVG3lERe3SNT",
        "outputId": "02828d86-0403-4f58-b45a-0856e6b0d5ec"
      },
      "execution_count": 52,
      "outputs": [
        {
          "output_type": "display_data",
          "data": {
            "text/plain": [
              "<Figure size 1500x500 with 6 Axes>"
            ],
            "image/png": "[encoded data removed]"
          },
          "metadata": {}
        }
      ]
    },
    {
      "cell_type": "code",
      "source": [
        "# Show detailed computation for the first pixel\n",
        "print(\"\\nDetailed computation for the first pixel:\")\n",
        "print(\"3x3 neighborhood around the first pixel (from padded image):\")\n",
        "neighborhood = padded_image[0:3, 0:3]\n",
        "print(neighborhood)\n",
        "\n",
        "print(\"\\nMultiplication with filter kernel:\")\n",
        "multiplication = neighborhood * filter_kernel\n",
        "print(multiplication)\n",
        "\n",
        "print(f\"\\nSum of values = {np.sum(multiplication)} ≈ {filtered_value}\")"
      ],
      "metadata": {
        "colab": {
          "base_uri": "https://localhost:8080/"
        },
        "id": "I8R7KNKz7Bko",
        "outputId": "b85ea7d9-2173-480f-cfb7-c6ce2d3b4324"
      },
      "execution_count": 53,
      "outputs": [
        {
          "output_type": "stream",
          "name": "stdout",
          "text": [
            "\n",
            "Detailed computation for the first pixel:\n",
            "3x3 neighborhood around the first pixel (from padded image):\n",
            "[[  0   0   0]\n",
            " [  0 102 220]\n",
            " [  0  61 234]]\n",
            "\n",
            "Multiplication with filter kernel:\n",
            "[[ 0.          0.          0.        ]\n",
            " [ 0.         11.33333333 24.44444444]\n",
            " [ 0.          6.77777778 26.        ]]\n",
            "\n",
            "Sum of values = 68.55555555555554 ≈ 68.55555555555554\n"
          ]
        }
      ]
    }
  ]
}